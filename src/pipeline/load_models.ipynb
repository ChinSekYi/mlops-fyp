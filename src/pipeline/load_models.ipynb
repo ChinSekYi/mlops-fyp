{
 "cells": [
  {
   "cell_type": "markdown",
   "id": "0c8c9b75",
   "metadata": {},
   "source": [
    "# Model Registry"
   ]
  },
  {
   "cell_type": "code",
   "execution_count": null,
   "id": "d1903b45",
   "metadata": {},
   "outputs": [],
   "source": [
    "import mlflow\n",
    "from mlflow import MlflowClient\n",
    "import os\n",
    "from dotenv import load_dotenv\n",
    "load_dotenv()\n",
    "\n",
    "mlflow.set_tracking_uri(os.getenv(\"MLFLOW_TRACKING_URI\"))\n",
    "mlflow.set_experiment(os.getenv(\"MLFLOW_EXPERIMENT\"))"
   ]
  },
  {
   "cell_type": "markdown",
   "id": "77e3507b",
   "metadata": {},
   "source": [
    "## Register a model to Model Registry"
   ]
  },
  {
   "cell_type": "code",
   "execution_count": null,
   "id": "5ad1a2a4",
   "metadata": {},
   "outputs": [],
   "source": [
    "\"\"\"\n",
    "mlflow.<model_flavor>.log_model(registered_model_name=<model_name>) # register the model while logging it to the tracking server.\n",
    "mlflow.register_model(<model_uri>, <model_name>) # register the model after logging it to the tracking server. Note that you'll have to log the model before running this command to get a model URI.\n",
    "\"\"\""
   ]
  },
  {
   "cell_type": "markdown",
   "id": "32770398",
   "metadata": {},
   "source": [
    "## Load a Registered Model - To perform inference on a registered model version"
   ]
  },
  {
   "cell_type": "code",
   "execution_count": null,
   "id": "36590f68",
   "metadata": {},
   "outputs": [],
   "source": [
    "# Use model ID\n",
    "model_id = 'm-5793c91765c748d989118aa7e93e6bd8'\n",
    "logged_model = mlflow.get_logged_model(model_id)\n",
    "\n",
    "print(logged_model, logged_model.metrics, logged_model.params)"
   ]
  },
  {
   "cell_type": "code",
   "execution_count": null,
   "id": "34932dbe",
   "metadata": {},
   "outputs": [],
   "source": [
    "# Use run ID\n",
    "# model = mlflow.sklearn.load_model(f\"runs:/{mlflow_run_id}/{run_relative_path_to_model}\")\n"
   ]
  },
  {
   "cell_type": "code",
   "execution_count": null,
   "id": "b874e435",
   "metadata": {},
   "outputs": [],
   "source": [
    "# Use registered model name, and version\n",
    "model_uri = \"models:/logistic-regression-model-a/3\" #\"models:/{registered_model_name}/{model_version}\"\n",
    "model = mlflow.sklearn.load_model(model_uri)\n",
    "\n",
    "print(model)"
   ]
  },
  {
   "cell_type": "code",
   "execution_count": null,
   "id": "d28f8a48",
   "metadata": {},
   "outputs": [],
   "source": [
    "# Load via Model Version Alias\n",
    "# Reassign alias from the old model version to the new one\n",
    "client = MlflowClient()\n",
    "\n",
    "# Set model version alias\n",
    "model_name = \"logistic-regression-model-a\"\n",
    "model_version_alias = \"challenger\"\n",
    "\n",
    "model_info = client.get_model_version_by_alias(model_name, model_version_alias)\n",
    "model_tags = model_info.tags\n",
    "print(model_tags)\n",
    "\n",
    "# Get the model version using a model URI\n",
    "model_uri = f\"models:/{model_name}@{model_version_alias}\"\n",
    "model = mlflow.sklearn.load_model(model_uri)\n",
    "\n",
    "print(model)"
   ]
  },
  {
   "cell_type": "markdown",
   "id": "7ae5e9fa",
   "metadata": {},
   "source": [
    "## Search Models"
   ]
  },
  {
   "cell_type": "code",
   "execution_count": null,
   "id": "564fd02d",
   "metadata": {},
   "outputs": [],
   "source": [
    "# Searching By Metrics\n",
    "\n",
    "experimend_id = '254433368725384354'\n",
    "\n",
    "\n",
    "# Find high-performing models\n",
    "high_accuracy_models = mlflow.search_logged_models(\n",
    "    experiment_ids=[experimend_id],  # Replace with your experiment ID\n",
    "    filter_string=\"metrics.test_accuracy > 0.9\",\n",
    ")\n",
    "print(high_accuracy_models)"
   ]
  },
  {
   "cell_type": "code",
   "execution_count": null,
   "id": "7b699935",
   "metadata": {},
   "outputs": [],
   "source": [
    "from pprint import pprint\n",
    "\n",
    "client = MlflowClient()\n",
    "for rm in client.search_registered_models():\n",
    "    pprint(dict(rm), indent=4)"
   ]
  },
  {
   "cell_type": "markdown",
   "id": "2969f22f",
   "metadata": {},
   "source": [
    "## Deploy and Organize Models with Aliases and Tags"
   ]
  },
  {
   "cell_type": "code",
   "execution_count": null,
   "id": "8be9a53e",
   "metadata": {},
   "outputs": [],
   "source": [
    "client = MlflowClient()\n",
    "\n",
    "client.set_registered_model_alias(\n",
    "    model_name, model_version_alias, \"3\" #sets \"the_best_model_ever\" to the version 1 model.\n",
    ")  # or do it manually in UI"
   ]
  },
  {
   "cell_type": "code",
   "execution_count": null,
   "id": "285ec434",
   "metadata": {},
   "outputs": [],
   "source": [
    "client = MlflowClient()\n",
    "\n",
    "client.set_registered_model_alias(\n",
    "    \"creditcard_model_staging\", \"candidate\", \"2\" #sets \"the_best_model_ever\" to the version 1 model.\n",
    ") "
   ]
  },
  {
   "cell_type": "code",
   "execution_count": null,
   "id": "90379d52",
   "metadata": {},
   "outputs": [],
   "source": [
    "# get a model version by alias\n",
    "client.get_model_version_by_alias(\"creditcard_model_prod\", \"Champion\")\n",
    "\n",
    "# delete the alias\n",
    "client.delete_registered_model_alias(\"creditcard_model_prod\", \"Sample\")"
   ]
  },
  {
   "cell_type": "code",
   "execution_count": 16,
   "id": "3cb87f84",
   "metadata": {},
   "outputs": [],
   "source": [
    "client = MlflowClient()\n",
    "\n",
    "ALGORITHM_TYPE = \"logistic-regression\"\n",
    "REGISTERED_MODEL_NAME = \"fraud-detection-model\"\n",
    "\n",
    "client.set_model_version_tag(\n",
    "    REGISTERED_MODEL_NAME,\n",
    "    '9',\n",
    "    \"algorithm\",\n",
    "    ALGORITHM_TYPE\n",
    ")"
   ]
  },
  {
   "cell_type": "code",
   "execution_count": null,
   "id": "354f9ce9",
   "metadata": {},
   "outputs": [],
   "source": [
    "for i in range(1,9):\n",
    "    client.set_model_version_tag(\n",
    "        REGISTERED_MODEL_NAME,\n",
    "        str(i),\n",
    "        \"algorithm\",\n",
    "        ALGORITHM_TYPE\n",
    "    )"
   ]
  },
  {
   "cell_type": "markdown",
   "id": "e05e9082",
   "metadata": {},
   "source": [
    "## Promoting an MLflow Model across environments"
   ]
  },
  {
   "cell_type": "code",
   "execution_count": null,
   "id": "e7c5ccf6",
   "metadata": {},
   "outputs": [],
   "source": [
    "from mlflow import MlflowClient\n",
    "\n",
    "client = MlflowClient()\n",
    "client.copy_model_version(\n",
    "    src_model_uri=\"models:/creditcard_model_staging@candidate\",\n",
    "    dst_name=\"creditcard_model_prod\",\n",
    ")"
   ]
  },
  {
   "cell_type": "markdown",
   "id": "221b8452",
   "metadata": {},
   "source": [
    "## Renaming an MLflow Model"
   ]
  },
  {
   "cell_type": "code",
   "execution_count": null,
   "id": "8532e264",
   "metadata": {},
   "outputs": [],
   "source": [
    "client = MlflowClient()\n",
    "client.rename_registered_model(\n",
    "    name=\"logistic-regression-model\",\n",
    "    new_name=\"logistic-regression-model-d\",\n",
    ")"
   ]
  }
 ],
 "metadata": {
  "kernelspec": {
   "display_name": "mlops",
   "language": "python",
   "name": "python3"
  },
  "language_info": {
   "codemirror_mode": {
    "name": "ipython",
    "version": 3
   },
   "file_extension": ".py",
   "mimetype": "text/x-python",
   "name": "python",
   "nbconvert_exporter": "python",
   "pygments_lexer": "ipython3",
   "version": "3.13.5"
  }
 },
 "nbformat": 4,
 "nbformat_minor": 5
}
