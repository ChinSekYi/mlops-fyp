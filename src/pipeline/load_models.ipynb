{
 "cells": [
  {
   "cell_type": "markdown",
   "id": "0c8c9b75",
   "metadata": {},
   "source": [
    "# Model Registry"
   ]
  },
  {
   "cell_type": "code",
   "execution_count": 3,
   "id": "d1903b45",
   "metadata": {},
   "outputs": [
    {
     "data": {
      "text/plain": [
       "<Experiment: artifact_location='s3://mlops-bucket.store.nus.cloud/48', creation_time=1760285277317, experiment_id='48', last_update_time=1760285277317, lifecycle_stage='active', name='fraud_detection_dev1', tags={'mlflow.experimentKind': 'custom_model_development'}>"
      ]
     },
     "execution_count": 3,
     "metadata": {},
     "output_type": "execute_result"
    }
   ],
   "source": [
    "import mlflow\n",
    "from mlflow import MlflowClient\n",
    "import os\n",
    "from dotenv import load_dotenv\n",
    "load_dotenv()\n",
    "\n",
    "mlflow.set_tracking_uri(os.getenv(\"MLFLOW_TRACKING_URI\"))\n",
    "mlflow.set_experiment(os.getenv(\"EXPERIMENT_NAME\"))"
   ]
  },
  {
   "cell_type": "markdown",
   "id": "77e3507b",
   "metadata": {},
   "source": [
    "## Register a model to Model Registry"
   ]
  },
  {
   "cell_type": "code",
   "execution_count": 4,
   "id": "5ad1a2a4",
   "metadata": {},
   "outputs": [
    {
     "data": {
      "text/plain": [
       "\"\\nmlflow.<model_flavor>.log_model(registered_model_name=<model_name>) # register the model while logging it to the tracking server.\\nmlflow.register_model(<model_uri>, <model_name>) # register the model after logging it to the tracking server. Note that you'll have to log the model before running this command to get a model URI.\\n\""
      ]
     },
     "execution_count": 4,
     "metadata": {},
     "output_type": "execute_result"
    }
   ],
   "source": [
    "\"\"\"\n",
    "mlflow.<model_flavor>.log_model(registered_model_name=<model_name>) # register the model while logging it to the tracking server.\n",
    "mlflow.register_model(<model_uri>, <model_name>) # register the model after logging it to the tracking server. Note that you'll have to log the model before running this command to get a model URI.\n",
    "\"\"\""
   ]
  },
  {
   "cell_type": "markdown",
   "id": "32770398",
   "metadata": {},
   "source": [
    "## Load a Registered Model - To perform inference on a registered model version"
   ]
  },
  {
   "cell_type": "code",
   "execution_count": 5,
   "id": "36590f68",
   "metadata": {},
   "outputs": [
    {
     "name": "stdout",
     "output_type": "stream",
     "text": [
      "LoggedModel(artifact_location='s3://mlops-bucket.store.nus.cloud/1/models/m-3e2c49f2b3fa4afd82a0e4f8dc05eceb/artifacts', creation_timestamp=1758473672239, experiment_id='1', last_updated_timestamp=1758473674998, model_id='m-3e2c49f2b3fa4afd82a0e4f8dc05eceb', model_type='', model_uri='models:/m-3e2c49f2b3fa4afd82a0e4f8dc05eceb', name='logreg_model', source_run_id='0213accbaff94aeaa6d30a600895b6e2', status=<LoggedModelStatus.READY: 'READY'>, status_message='') [<Metric: dataset_digest=None, dataset_name=None, key='train_accuracy', model_id='m-3e2c49f2b3fa4afd82a0e4f8dc05eceb', run_id='0213accbaff94aeaa6d30a600895b6e2', step=0, timestamp=1758473675713, value=0.9555273189326556>, <Metric: dataset_digest=None, dataset_name=None, key='train_precision', model_id='m-3e2c49f2b3fa4afd82a0e4f8dc05eceb', run_id='0213accbaff94aeaa6d30a600895b6e2', step=0, timestamp=1758473675851, value=0.986449864498645>, <Metric: dataset_digest=None, dataset_name=None, key='train_recall', model_id='m-3e2c49f2b3fa4afd82a0e4f8dc05eceb', run_id='0213accbaff94aeaa6d30a600895b6e2', step=0, timestamp=1758473675977, value=0.9238578680203046>, <Metric: dataset_digest=None, dataset_name=None, key='train_f1', model_id='m-3e2c49f2b3fa4afd82a0e4f8dc05eceb', run_id='0213accbaff94aeaa6d30a600895b6e2', step=0, timestamp=1758473676112, value=0.9541284403669725>, <Metric: dataset_digest=None, dataset_name=None, key='test_accuracy', model_id='m-3e2c49f2b3fa4afd82a0e4f8dc05eceb', run_id='0213accbaff94aeaa6d30a600895b6e2', step=0, timestamp=1758473676267, value=0.934010152284264>, <Metric: dataset_digest=None, dataset_name=None, key='test_precision', model_id='m-3e2c49f2b3fa4afd82a0e4f8dc05eceb', run_id='0213accbaff94aeaa6d30a600895b6e2', step=0, timestamp=1758473676351, value=0.967032967032967>, <Metric: dataset_digest=None, dataset_name=None, key='test_recall', model_id='m-3e2c49f2b3fa4afd82a0e4f8dc05eceb', run_id='0213accbaff94aeaa6d30a600895b6e2', step=0, timestamp=1758473676478, value=0.8979591836734694>, <Metric: dataset_digest=None, dataset_name=None, key='test_f1', model_id='m-3e2c49f2b3fa4afd82a0e4f8dc05eceb', run_id='0213accbaff94aeaa6d30a600895b6e2', step=0, timestamp=1758473676627, value=0.9312169312169312>] {'model_type': 'LogisticRegression', 'max_iter': '1000'}\n"
     ]
    },
    {
     "ename": "AttributeError",
     "evalue": "'LoggedModel' object has no attribute 'version'",
     "output_type": "error",
     "traceback": [
      "\u001b[0;31m---------------------------------------------------------------------------\u001b[0m",
      "\u001b[0;31mAttributeError\u001b[0m                            Traceback (most recent call last)",
      "Cell \u001b[0;32mIn[5], line 6\u001b[0m\n\u001b[1;32m      3\u001b[0m logged_model \u001b[38;5;241m=\u001b[39m mlflow\u001b[38;5;241m.\u001b[39mget_logged_model(model_id)\n\u001b[1;32m      5\u001b[0m \u001b[38;5;28mprint\u001b[39m(logged_model, logged_model\u001b[38;5;241m.\u001b[39mmetrics, logged_model\u001b[38;5;241m.\u001b[39mparams)\n\u001b[0;32m----> 6\u001b[0m \u001b[38;5;28mprint\u001b[39m(\u001b[43mlogged_model\u001b[49m\u001b[38;5;241;43m.\u001b[39;49m\u001b[43mversion\u001b[49m)\n",
      "\u001b[0;31mAttributeError\u001b[0m: 'LoggedModel' object has no attribute 'version'"
     ]
    }
   ],
   "source": [
    "# Use model ID\n",
    "model_id = 'm-3e2c49f2b3fa4afd82a0e4f8dc05eceb'\n",
    "logged_model = mlflow.get_logged_model(model_id)\n",
    "\n",
    "print(logged_model, logged_model.metrics, logged_model.params)\n",
    "print(logged_model.version)"
   ]
  },
  {
   "cell_type": "code",
   "execution_count": null,
   "id": "34932dbe",
   "metadata": {},
   "outputs": [],
   "source": [
    "# Use run ID\n",
    "# model = mlflow.sklearn.load_model(f\"runs:/{mlflow_run_id}/{run_relative_path_to_model}\")\n"
   ]
  },
  {
   "cell_type": "code",
   "execution_count": null,
   "id": "b874e435",
   "metadata": {},
   "outputs": [
    {
     "name": "stderr",
     "output_type": "stream",
     "text": [
      "/Users/carlychinsekyi/miniconda3/envs/mlops/lib/python3.13/site-packages/tqdm/auto.py:21: TqdmWarning: IProgress not found. Please update jupyter and ipywidgets. See https://ipywidgets.readthedocs.io/en/stable/user_install.html\n",
      "  from .autonotebook import tqdm as notebook_tqdm\n",
      "Downloading artifacts: 100%|██████████| 7/7 [00:00<00:00, 42.07it/s]\n"
     ]
    },
    {
     "name": "stdout",
     "output_type": "stream",
     "text": [
      "LogisticRegression(max_iter=1000)\n"
     ]
    }
   ],
   "source": [
    "# Use registered model name, and version\n",
    "model_uri = \"models:/fraud-detection-model/3\" #\"models:/{registered_model_name}/{model_version}\"\n",
    "model = mlflow.sklearn.load_model(model_uri)\n",
    "\n",
    "print(model)"
   ]
  },
  {
   "cell_type": "code",
   "execution_count": null,
   "id": "d28f8a48",
   "metadata": {},
   "outputs": [],
   "source": [
    "# Load via Model Version Alias\n",
    "# Reassign alias from the old model version to the new one\n",
    "client = MlflowClient()\n",
    "\n",
    "# Set model version alias\n",
    "model_name = \"logistic-regression-model-a\"\n",
    "model_version_alias = \"challenger\"\n",
    "\n",
    "model_info = client.get_model_version_by_alias(model_name, model_version_alias)\n",
    "model_tags = model_info.tags\n",
    "print(model_tags)\n",
    "\n",
    "# Get the model version using a model URI\n",
    "model_uri = f\"models:/{model_name}@{model_version_alias}\"\n",
    "model = mlflow.sklearn.load_model(model_uri)\n",
    "\n",
    "print(model)"
   ]
  },
  {
   "cell_type": "markdown",
   "id": "7ae5e9fa",
   "metadata": {},
   "source": [
    "## Search Models"
   ]
  },
  {
   "cell_type": "code",
   "execution_count": null,
   "id": "564fd02d",
   "metadata": {},
   "outputs": [],
   "source": [
    "# Searching By Metrics\n",
    "\n",
    "experimend_id = '254433368725384354'\n",
    "\n",
    "\n",
    "# Find high-performing models\n",
    "high_accuracy_models = mlflow.search_logged_models(\n",
    "    experiment_ids=[experimend_id],  # Replace with your experiment ID\n",
    "    filter_string=\"metrics.test_accuracy > 0.9\",\n",
    ")\n",
    "print(high_accuracy_models)"
   ]
  },
  {
   "cell_type": "code",
   "execution_count": null,
   "id": "7b699935",
   "metadata": {},
   "outputs": [],
   "source": [
    "from pprint import pprint\n",
    "\n",
    "client = MlflowClient()\n",
    "for rm in client.search_registered_models():\n",
    "    pprint(dict(rm), indent=4)"
   ]
  },
  {
   "cell_type": "markdown",
   "id": "2969f22f",
   "metadata": {},
   "source": [
    "## Deploy and Organize Models with Aliases and Tags"
   ]
  },
  {
   "cell_type": "code",
   "execution_count": null,
   "id": "8be9a53e",
   "metadata": {},
   "outputs": [],
   "source": [
    "client = MlflowClient()\n",
    "\n",
    "client.set_registered_model_alias(\n",
    "    model_name, model_version_alias, \"3\" #sets \"the_best_model_ever\" to the version 1 model.\n",
    ")  # or do it manually in UI"
   ]
  },
  {
   "cell_type": "code",
   "execution_count": null,
   "id": "285ec434",
   "metadata": {},
   "outputs": [],
   "source": [
    "client = MlflowClient()\n",
    "\n",
    "client.set_registered_model_alias(\n",
    "    \"creditcard_model_staging\", \"candidate\", \"2\" #sets \"the_best_model_ever\" to the version 1 model.\n",
    ") "
   ]
  },
  {
   "cell_type": "code",
   "execution_count": null,
   "id": "90379d52",
   "metadata": {},
   "outputs": [],
   "source": [
    "# get a model version by alias\n",
    "client.get_model_version_by_alias(\"creditcard_model_prod\", \"Champion\")\n",
    "\n",
    "# delete the alias\n",
    "client.delete_registered_model_alias(\"creditcard_model_prod\", \"Sample\")"
   ]
  },
  {
   "cell_type": "code",
   "execution_count": null,
   "id": "3cb87f84",
   "metadata": {},
   "outputs": [],
   "source": [
    "client = MlflowClient()\n",
    "\n",
    "ALGORITHM_TYPE = \"logistic-regression\"\n",
    "REGISTERED_MODEL_NAME = \"fraud-detection-model\"\n",
    "\n",
    "client.set_model_version_tag(\n",
    "    REGISTERED_MODEL_NAME,\n",
    "    '9',\n",
    "    \"algorithm\",\n",
    "    ALGORITHM_TYPE\n",
    ")"
   ]
  },
  {
   "cell_type": "code",
   "execution_count": null,
   "id": "354f9ce9",
   "metadata": {},
   "outputs": [],
   "source": [
    "for i in range(22,27):\n",
    "    client.set_model_version_tag(\n",
    "        REGISTERED_MODEL_NAME,\n",
    "        str(i),\n",
    "        \"algorithm\",\n",
    "        ALGORITHM_TYPE\n",
    "    )"
   ]
  },
  {
   "cell_type": "markdown",
   "id": "98e961fe",
   "metadata": {},
   "source": [
    "## Deleting a model version from model registry"
   ]
  },
  {
   "cell_type": "code",
   "execution_count": null,
   "id": "539f264d",
   "metadata": {},
   "outputs": [],
   "source": [
    "# Initialize the MLflow Client\n",
    "client = MlflowClient()\n",
    "\n",
    "# Define the name of the registered model and the version to delete\n",
    "model_name = \"fraud-detection-model\"\n",
    "version_to_delete = 21  # Replace with the actual version number\n",
    "\n",
    "# Delete the specific model version\n",
    "try:\n",
    "    client.delete_model_version(name=model_name, version=version_to_delete)\n",
    "    print(f\"Model version {version_to_delete} of '{model_name}' deleted successfully.\")\n",
    "except mlflow.exceptions.MlflowException as e:\n",
    "    print(f\"Error deleting model version: {e}\")"
   ]
  },
  {
   "cell_type": "markdown",
   "id": "e05e9082",
   "metadata": {},
   "source": [
    "## Promoting an MLflow Model across environments"
   ]
  },
  {
   "cell_type": "code",
   "execution_count": null,
   "id": "e7c5ccf6",
   "metadata": {},
   "outputs": [],
   "source": [
    "from mlflow import MlflowClient\n",
    "\n",
    "client = MlflowClient()\n",
    "client.copy_model_version(\n",
    "    src_model_uri=\"models:/creditcard_model_staging@candidate\",\n",
    "    dst_name=\"creditcard_model_prod\",\n",
    ")"
   ]
  },
  {
   "cell_type": "markdown",
   "id": "221b8452",
   "metadata": {},
   "source": [
    "## Renaming an MLflow Model"
   ]
  },
  {
   "cell_type": "code",
   "execution_count": null,
   "id": "8532e264",
   "metadata": {},
   "outputs": [],
   "source": [
    "client = MlflowClient()\n",
    "client.rename_registered_model(\n",
    "    name=\"logistic-regression-model\",\n",
    "    new_name=\"logistic-regression-model-d\",\n",
    ")"
   ]
  }
 ],
 "metadata": {
  "kernelspec": {
   "display_name": "mlops",
   "language": "python",
   "name": "python3"
  },
  "language_info": {
   "codemirror_mode": {
    "name": "ipython",
    "version": 3
   },
   "file_extension": ".py",
   "mimetype": "text/x-python",
   "name": "python",
   "nbconvert_exporter": "python",
   "pygments_lexer": "ipython3",
   "version": "3.13.5"
  }
 },
 "nbformat": 4,
 "nbformat_minor": 5
}
