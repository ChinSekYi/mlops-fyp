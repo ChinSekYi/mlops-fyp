{
 "cells": [
  {
   "cell_type": "markdown",
   "metadata": {},
   "source": [
    "# ✨Introduction \n",
    "Credits: https://www.kaggle.com/code/benroshan/transaction-fraud-detection#%F0%9F%A7%AA-Evaluation-of-model"
   ]
  },
  {
   "cell_type": "code",
   "execution_count": 1,
   "metadata": {
    "execution": {
     "iopub.execute_input": "2021-08-14T16:44:45.653094Z",
     "iopub.status.busy": "2021-08-14T16:44:45.652684Z",
     "iopub.status.idle": "2021-08-14T16:44:45.670791Z",
     "shell.execute_reply": "2021-08-14T16:44:45.669723Z",
     "shell.execute_reply.started": "2021-08-14T16:44:45.653059Z"
    },
    "trusted": true
   },
   "outputs": [],
   "source": [
    "#Basic libraries\n",
    "import pandas as pd\n",
    "import numpy as np\n",
    "\n",
    "#preprocessing libraries\n",
    "from sklearn.preprocessing import StandardScaler\n",
    "from sklearn.model_selection import train_test_split"
   ]
  },
  {
   "cell_type": "code",
   "execution_count": 2,
   "metadata": {},
   "outputs": [],
   "source": [
    "#ML libraries\n",
    "#import tensorflow as tf"
   ]
  },
  {
   "cell_type": "code",
   "execution_count": 3,
   "metadata": {},
   "outputs": [],
   "source": [
    "from sklearn.svm import SVC\n",
    "from sklearn.preprocessing import LabelEncoder\n",
    "from sklearn.preprocessing import StandardScaler\n",
    "from sklearn.ensemble import ExtraTreesClassifier\n",
    "from sklearn.pipeline import make_pipeline\n",
    "from sklearn.model_selection import GridSearchCV\n",
    "from sklearn.linear_model import LogisticRegression\n",
    "from sklearn.tree import DecisionTreeClassifier\n",
    "from sklearn.ensemble import RandomForestClassifier\n",
    "from sklearn.naive_bayes import GaussianNB\n",
    "from sklearn.neighbors import KNeighborsClassifier\n",
    "from sklearn.svm import SVC\n",
    "from sklearn.svm import LinearSVC\n",
    "from sklearn.pipeline import Pipeline"
   ]
  },
  {
   "cell_type": "code",
   "execution_count": 4,
   "metadata": {},
   "outputs": [],
   "source": [
    "#Metrics Libraries\n",
    "from sklearn import metrics\n",
    "from sklearn.metrics import classification_report\n",
    "from sklearn.model_selection import cross_val_score\n",
    "from sklearn.metrics import accuracy_score\n",
    "from sklearn.metrics import confusion_matrix\n",
    "\n",
    "#Misc libraries\n",
    "import warnings\n",
    "warnings.filterwarnings(\"ignore\")"
   ]
  },
  {
   "cell_type": "markdown",
   "metadata": {},
   "source": [
    "### Dataset"
   ]
  },
  {
   "cell_type": "code",
   "execution_count": 5,
   "metadata": {
    "execution": {
     "iopub.execute_input": "2021-08-14T16:44:45.672513Z",
     "iopub.status.busy": "2021-08-14T16:44:45.672202Z",
     "iopub.status.idle": "2021-08-14T16:45:00.215558Z",
     "shell.execute_reply": "2021-08-14T16:45:00.214437Z",
     "shell.execute_reply.started": "2021-08-14T16:44:45.672487Z"
    },
    "trusted": true
   },
   "outputs": [
    {
     "data": {
      "text/html": [
       "<div>\n",
       "<style scoped>\n",
       "    .dataframe tbody tr th:only-of-type {\n",
       "        vertical-align: middle;\n",
       "    }\n",
       "\n",
       "    .dataframe tbody tr th {\n",
       "        vertical-align: top;\n",
       "    }\n",
       "\n",
       "    .dataframe thead th {\n",
       "        text-align: right;\n",
       "    }\n",
       "</style>\n",
       "<table border=\"1\" class=\"dataframe\">\n",
       "  <thead>\n",
       "    <tr style=\"text-align: right;\">\n",
       "      <th></th>\n",
       "      <th>step</th>\n",
       "      <th>type</th>\n",
       "      <th>amount</th>\n",
       "      <th>nameOrig</th>\n",
       "      <th>oldbalanceOrg</th>\n",
       "      <th>newbalanceOrig</th>\n",
       "      <th>nameDest</th>\n",
       "      <th>oldbalanceDest</th>\n",
       "      <th>newbalanceDest</th>\n",
       "      <th>isFraud</th>\n",
       "      <th>isFlaggedFraud</th>\n",
       "    </tr>\n",
       "  </thead>\n",
       "  <tbody>\n",
       "    <tr>\n",
       "      <th>0</th>\n",
       "      <td>1</td>\n",
       "      <td>PAYMENT</td>\n",
       "      <td>9839.64</td>\n",
       "      <td>C1231006815</td>\n",
       "      <td>170136.0</td>\n",
       "      <td>160296.36</td>\n",
       "      <td>M1979787155</td>\n",
       "      <td>0.0</td>\n",
       "      <td>0.0</td>\n",
       "      <td>0</td>\n",
       "      <td>0</td>\n",
       "    </tr>\n",
       "    <tr>\n",
       "      <th>1</th>\n",
       "      <td>1</td>\n",
       "      <td>PAYMENT</td>\n",
       "      <td>1864.28</td>\n",
       "      <td>C1666544295</td>\n",
       "      <td>21249.0</td>\n",
       "      <td>19384.72</td>\n",
       "      <td>M2044282225</td>\n",
       "      <td>0.0</td>\n",
       "      <td>0.0</td>\n",
       "      <td>0</td>\n",
       "      <td>0</td>\n",
       "    </tr>\n",
       "    <tr>\n",
       "      <th>2</th>\n",
       "      <td>1</td>\n",
       "      <td>TRANSFER</td>\n",
       "      <td>181.00</td>\n",
       "      <td>C1305486145</td>\n",
       "      <td>181.0</td>\n",
       "      <td>0.00</td>\n",
       "      <td>C553264065</td>\n",
       "      <td>0.0</td>\n",
       "      <td>0.0</td>\n",
       "      <td>1</td>\n",
       "      <td>0</td>\n",
       "    </tr>\n",
       "    <tr>\n",
       "      <th>3</th>\n",
       "      <td>1</td>\n",
       "      <td>CASH_OUT</td>\n",
       "      <td>181.00</td>\n",
       "      <td>C840083671</td>\n",
       "      <td>181.0</td>\n",
       "      <td>0.00</td>\n",
       "      <td>C38997010</td>\n",
       "      <td>21182.0</td>\n",
       "      <td>0.0</td>\n",
       "      <td>1</td>\n",
       "      <td>0</td>\n",
       "    </tr>\n",
       "    <tr>\n",
       "      <th>4</th>\n",
       "      <td>1</td>\n",
       "      <td>PAYMENT</td>\n",
       "      <td>11668.14</td>\n",
       "      <td>C2048537720</td>\n",
       "      <td>41554.0</td>\n",
       "      <td>29885.86</td>\n",
       "      <td>M1230701703</td>\n",
       "      <td>0.0</td>\n",
       "      <td>0.0</td>\n",
       "      <td>0</td>\n",
       "      <td>0</td>\n",
       "    </tr>\n",
       "  </tbody>\n",
       "</table>\n",
       "</div>"
      ],
      "text/plain": [
       "   step      type    amount     nameOrig  oldbalanceOrg  newbalanceOrig  \\\n",
       "0     1   PAYMENT   9839.64  C1231006815       170136.0       160296.36   \n",
       "1     1   PAYMENT   1864.28  C1666544295        21249.0        19384.72   \n",
       "2     1  TRANSFER    181.00  C1305486145          181.0            0.00   \n",
       "3     1  CASH_OUT    181.00   C840083671          181.0            0.00   \n",
       "4     1   PAYMENT  11668.14  C2048537720        41554.0        29885.86   \n",
       "\n",
       "      nameDest  oldbalanceDest  newbalanceDest  isFraud  isFlaggedFraud  \n",
       "0  M1979787155             0.0             0.0        0               0  \n",
       "1  M2044282225             0.0             0.0        0               0  \n",
       "2   C553264065             0.0             0.0        1               0  \n",
       "3    C38997010         21182.0             0.0        1               0  \n",
       "4  M1230701703             0.0             0.0        0               0  "
      ]
     },
     "execution_count": 5,
     "metadata": {},
     "output_type": "execute_result"
    }
   ],
   "source": [
    "raw_data = \"../data/raw/paysim-dev.csv\"\n",
    "paysim=pd.read_csv(raw_data)\n",
    "paysim.head()"
   ]
  },
  {
   "cell_type": "code",
   "execution_count": 6,
   "metadata": {},
   "outputs": [
    {
     "data": {
      "text/plain": [
       "4463587"
      ]
     },
     "execution_count": 6,
     "metadata": {},
     "output_type": "execute_result"
    }
   ],
   "source": [
    "len(paysim)"
   ]
  },
  {
   "cell_type": "code",
   "execution_count": 7,
   "metadata": {
    "execution": {
     "iopub.execute_input": "2021-08-14T16:45:00.217823Z",
     "iopub.status.busy": "2021-08-14T16:45:00.217525Z",
     "iopub.status.idle": "2021-08-14T16:45:00.230856Z",
     "shell.execute_reply": "2021-08-14T16:45:00.229762Z",
     "shell.execute_reply.started": "2021-08-14T16:45:00.217796Z"
    },
    "trusted": true
   },
   "outputs": [
    {
     "name": "stdout",
     "output_type": "stream",
     "text": [
      "<class 'pandas.core.frame.DataFrame'>\n",
      "RangeIndex: 4463587 entries, 0 to 4463586\n",
      "Data columns (total 11 columns):\n",
      " #   Column          Dtype  \n",
      "---  ------          -----  \n",
      " 0   step            int64  \n",
      " 1   type            object \n",
      " 2   amount          float64\n",
      " 3   nameOrig        object \n",
      " 4   oldbalanceOrg   float64\n",
      " 5   newbalanceOrig  float64\n",
      " 6   nameDest        object \n",
      " 7   oldbalanceDest  float64\n",
      " 8   newbalanceDest  float64\n",
      " 9   isFraud         int64  \n",
      " 10  isFlaggedFraud  int64  \n",
      "dtypes: float64(5), int64(3), object(3)\n",
      "memory usage: 374.6+ MB\n"
     ]
    }
   ],
   "source": [
    "paysim.info()"
   ]
  },
  {
   "cell_type": "markdown",
   "metadata": {},
   "source": [
    "### Dataset description\n",
    "1. step - maps a unit of time in the real world. In this case 1 step is 1 hour of time. Total steps 744 (30 days simulation).\n",
    "2. type - CASH-IN, CASH-OUT, DEBIT, PAYMENT and TRANSFER.\n",
    "3. amount - amount of the transaction in local currency.\n",
    "4. nameOrig - customer who started the transaction\n",
    "5. oldbalanceOrg - initial balance before the transaction\n",
    "6. newbalanceOrig - new balance after the transaction\n",
    "7. nameDest - customer who is the recipient of the transaction\n",
    "8. oldbalanceDest - initial balance recipient before the transaction. Note that there is not information for customers that start with M (Merchants).\n",
    "9. newbalanceDest - new balance recipient after the transaction. Note that there is not information for customers that start with M (Merchants).\n",
    "10. isFraud - This is the transactions made by the fraudulent agents inside the simulation. In this specific dataset the fraudulent behavior of the agents aims to profit by taking control or customers accounts and try to empty the funds by transferring to another account and then cashing out of the system.\n",
    "11. isFlaggedFraud - The business model aims to control massive transfers from one account to another and flags illegal attempts. An illegal attempt in this dataset is an attempt to transfer more than 200.000 in a single transaction."
   ]
  },
  {
   "cell_type": "markdown",
   "metadata": {},
   "source": [
    "<div class=\"alert alert-block alert-info\">\n",
    "<b>🔍Inference:</b> <br>\n",
    "As per the current rule based algorithm, there has been no flags during fraud transactions incase of cash_out , which a serious concern to the anti money laundering system . Also there are only 16 transactions which are flagged as fraud whereas around 4k transactions are actually fraud. Our mission is now to build an efficient algorithm to mitigate this risk of letting fraud transactions unblocked<br>\n",
    "<br>   \n",
    "</div>"
   ]
  },
  {
   "cell_type": "markdown",
   "metadata": {},
   "source": [
    "<div class=\"alert alert-block alert-info\">\n",
    "<b>🔍Inference:</b> <br>\n",
    "From the table we can understand that most of the customers use the system for transfering money and we have a relatively less data for payments made. Also it is quite interesting to notice the difference between the new and old balance as it tells us some stories. Here we have only the visuals of Orgin account and cash balance have reduced in all cases except cash_in . Even in transfer the balance have reduced which shows that we have more sender information in Original account<br>\n",
    "<br>   \n",
    "</div>"
   ]
  },
  {
   "cell_type": "markdown",
   "metadata": {},
   "source": [
    "<div class=\"alert alert-block alert-info\">\n",
    "<b>🔍Inference:</b> <br>\n",
    "In this table we have the information of destination account , from the transfer information we can see the increase in new balance, hence this is the receiver's info. There is no payment amount available for Dest information.<br>\n",
    "<br>   \n",
    "</div>"
   ]
  },
  {
   "cell_type": "markdown",
   "metadata": {},
   "source": [
    "<div class=\"alert alert-block alert-info\">\n",
    "<b>🔍Inference:</b> <br>\n",
    "From the bar plot we can understand that we have a very right skewed dataset, there are a lot of outliers which goes upto 10M with a median of 33k. The upper bracket(75th percentile) counts upto 450k<br>\n",
    "<br>   \n",
    "</div>"
   ]
  },
  {
   "cell_type": "markdown",
   "metadata": {},
   "source": [
    "# 🔧 Feature engineering \n",
    ">  Time to get our hands dirty with feature engineering. With the available information it is hard to train the model and get better results. Hence we move onto create new features by altering the existing features. In this we create three functions which creates a highly relevant feature for the domain\n",
    ">\n",
    "> 1. **Difference in balance:** It is an universal truth that the amount debited from senders account gets credited into the receivers account without any deviation in cents. But what if there is a deviation incase of the amount debited and credited. Some could be due to the charges levied by the service providers, yet we need to flag such unusual instances\n",
    "> 2. **Surge indicator:** Also we have to trigger flag when large amount are involved in the transaction. From the distribution of amount we understood that we have a lot of outliers with high amount in transactions. Hence we consider the 75th percentile(450k) as our threshold and amount which is greater than 450k will be triggered as a flag\n",
    "> 3. **Frequency indicator:** Here we flag the user and not the transaction. When there is a receiver who receives money from a lot of people, it could be a trigger as it can be for some illegal games of chance or luck. Hence it is flagged when there is a receiver who receives money for more than 20 times.\n",
    ">4. **Merchant indicator:** The customer ids in receiver starts with 'M' which means that they are merchants and they obviously will have a lot of receiving transactions. So we also flag whenever there is a merchant receiver"
   ]
  },
  {
   "cell_type": "code",
   "execution_count": 8,
   "metadata": {
    "execution": {
     "iopub.execute_input": "2021-08-14T16:45:08.592336Z",
     "iopub.status.busy": "2021-08-14T16:45:08.591951Z",
     "iopub.status.idle": "2021-08-14T16:45:08.611073Z",
     "shell.execute_reply": "2021-08-14T16:45:08.609941Z",
     "shell.execute_reply.started": "2021-08-14T16:45:08.592298Z"
    },
    "trusted": true
   },
   "outputs": [],
   "source": [
    "#Tallying the balance\n",
    "def balance_diff(data):\n",
    "    '''balance_diff checks whether the money debited from sender has exactly credited to the receiver\n",
    "       then it creates a new column which indicates 1 when there is a deviation else 0'''\n",
    "    #Sender's balance\n",
    "    orig_change=data['newbalanceOrig']-data['oldbalanceOrg']\n",
    "    orig_change=orig_change.astype(int)\n",
    "    for i in orig_change:\n",
    "        if i<0:\n",
    "            data['orig_txn_diff']=round(data['amount']+orig_change,2)\n",
    "        else:\n",
    "            data['orig_txn_diff']=round(data['amount']-orig_change,2)\n",
    "    data['orig_txn_diff']=data['orig_txn_diff'].astype(int)\n",
    "    data['orig_diff'] = [1 if n !=0 else 0 for n in data['orig_txn_diff']] \n",
    "    \n",
    "    #Receiver's balance\n",
    "    dest_change=data['newbalanceDest']-data['oldbalanceDest']\n",
    "    dest_change=dest_change.astype(int)\n",
    "    for i in dest_change:\n",
    "        if i<0:\n",
    "            data['dest_txn_diff']=round(data['amount']+dest_change,2)\n",
    "        else:\n",
    "            data['dest_txn_diff']=round(data['amount']-dest_change,2)\n",
    "    data['dest_txn_diff']=data['dest_txn_diff'].astype(int)\n",
    "    data['dest_diff'] = [1 if n !=0 else 0 for n in data['dest_txn_diff']] \n",
    "    \n",
    "    data.drop(['orig_txn_diff','dest_txn_diff'],axis=1,inplace = True)\n",
    "    \n",
    "#Surge indicator\n",
    "def surge_indicator(data):\n",
    "    '''Creates a new column which has 1 if the transaction amount is greater than the threshold\n",
    "    else it will be 0'''\n",
    "    data['surge']=[1 if n>450000 else 0 for n in data['amount']]\n",
    "\n",
    "#Frequency indicator\n",
    "def frequency_receiver(data):\n",
    "    '''Creates a new column which has 1 if the receiver receives money from many individuals\n",
    "    else it will be 0'''\n",
    "    data['freq_Dest']=data['nameDest'].map(data['nameDest'].value_counts())\n",
    "    data['freq_dest']=[1 if n>20 else 0 for n in data['freq_Dest']]\n",
    "    \n",
    "    data.drop(['freq_Dest'],axis=1,inplace = True)\n",
    "\n",
    "#Tracking the receiver as merchant or not\n",
    "def merchant(data):\n",
    "    '''We also have customer ids which starts with M in Receiver name, it indicates merchant\n",
    "    this function will flag if there is a merchant in receiver end '''\n",
    "    values = ['M']\n",
    "    conditions = list(map(data['nameDest'].str.contains, values))\n",
    "    data['merchant'] = np.select(conditions, '1', '0')"
   ]
  },
  {
   "cell_type": "code",
   "execution_count": 9,
   "metadata": {
    "execution": {
     "iopub.execute_input": "2021-08-14T16:45:08.614704Z",
     "iopub.status.busy": "2021-08-14T16:45:08.614291Z",
     "iopub.status.idle": "2021-08-14T16:46:43.177378Z",
     "shell.execute_reply": "2021-08-14T16:46:43.176401Z",
     "shell.execute_reply.started": "2021-08-14T16:45:08.614649Z"
    },
    "trusted": true
   },
   "outputs": [],
   "source": [
    "#Applying balance_diff function\n",
    "#balance_diff(paysim)\n",
    "\n",
    "#paysim['orig_diff'].value_counts()\n",
    "#paysim['dest_diff'].value_counts()"
   ]
  },
  {
   "cell_type": "code",
   "execution_count": 10,
   "metadata": {
    "execution": {
     "iopub.execute_input": "2021-08-14T16:46:43.179934Z",
     "iopub.status.busy": "2021-08-14T16:46:43.179502Z",
     "iopub.status.idle": "2021-08-14T16:46:43.224612Z",
     "shell.execute_reply": "2021-08-14T16:46:43.223749Z",
     "shell.execute_reply.started": "2021-08-14T16:46:43.179889Z"
    },
    "trusted": true
   },
   "outputs": [],
   "source": [
    "#Applying surge_indicator function\n",
    "#surge_indicator(paysim)\n",
    "#paysim['surge'].value_counts()"
   ]
  },
  {
   "cell_type": "code",
   "execution_count": 11,
   "metadata": {
    "execution": {
     "iopub.execute_input": "2021-08-14T16:46:43.226211Z",
     "iopub.status.busy": "2021-08-14T16:46:43.225916Z",
     "iopub.status.idle": "2021-08-14T16:46:43.310851Z",
     "shell.execute_reply": "2021-08-14T16:46:43.309916Z",
     "shell.execute_reply.started": "2021-08-14T16:46:43.226184Z"
    },
    "trusted": true
   },
   "outputs": [],
   "source": [
    "#Applying frequency_receiver function\n",
    "#frequency_receiver(paysim)\n",
    "#paysim['freq_dest'].value_counts()"
   ]
  },
  {
   "cell_type": "markdown",
   "metadata": {},
   "source": [
    "# ⚙️ Pre-processing data\n",
    ">  Before moving to build a machine learning model, it is mandatory to pre-process the data so that the model trains without any error and can learn better to provide better results\n",
    "\n",
    "## 1. Train-test split "
   ]
  },
  {
   "cell_type": "code",
   "execution_count": 12,
   "metadata": {},
   "outputs": [],
   "source": [
    "paysim_1=paysim.copy()\n",
    "x=paysim_1.drop('isFraud',axis=1)\n",
    "y=paysim_1['isFraud']\n",
    "\n",
    "# Train-test split\n",
    "x_train, x_test, y_train, y_test = train_test_split(x, y, train_size=0.7, random_state=111)"
   ]
  },
  {
   "cell_type": "markdown",
   "metadata": {},
   "source": [
    "## 2. Balancing the target\n",
    "> From the pie chart below we can clearly see that the target label is heavily imbalance as we have only 0.2% of fraudulent data which is in-sufficient for machine to learn and flag when fraud transactions happen."
   ]
  },
  {
   "cell_type": "code",
   "execution_count": null,
   "metadata": {
    "execution": {
     "iopub.execute_input": "2021-08-14T16:46:43.333843Z",
     "iopub.status.busy": "2021-08-14T16:46:43.333413Z",
     "iopub.status.idle": "2021-08-14T16:46:43.371313Z",
     "shell.execute_reply": "2021-08-14T16:46:43.370365Z",
     "shell.execute_reply.started": "2021-08-14T16:46:43.333800Z"
    },
    "trusted": true
   },
   "outputs": [],
   "source": [
    "# Function to balance classes in training data\n",
    "from sklearn.utils import resample\n",
    "\n",
    "def balance_classes(x_train, y_train, random_state=123):\n",
    "    \"\"\"Upsample the minority class in x_train/y_train to match the majority class size.\"\"\"\n",
    "    train_balanced = x_train.copy()\n",
    "    train_balanced['isFraud'] = y_train.values\n",
    "    majority_class = train_balanced['isFraud'].value_counts().idxmax()\n",
    "    minority_class = train_balanced['isFraud'].value_counts().idxmin()\n",
    "    df_majority = train_balanced[train_balanced['isFraud'] == majority_class]\n",
    "    df_minority = train_balanced[train_balanced['isFraud'] == minority_class]\n",
    "    df_minority_upsampled = resample(df_minority, \n",
    "                                 replace=True, \n",
    "                                 n_samples=len(df_majority), \n",
    "                                 random_state=random_state)\n",
    "    train_balanced = pd.concat([df_majority, df_minority_upsampled])\n",
    "    train_balanced = train_balanced.sample(frac=1, random_state=random_state).reset_index(drop=True)\n",
    "    x_train_bal = train_balanced.drop('isFraud', axis=1)\n",
    "    y_train_bal = train_balanced['isFraud']\n",
    "    return x_train_bal, y_train_bal\n",
    "\n",
    "# Apply balancing to x_train and y_train\n",
    "x_train, y_train = balance_classes(x_train, y_train)"
   ]
  },
  {
   "cell_type": "markdown",
   "metadata": {},
   "source": [
    "## 3. One hot encoding\n",
    "> One of the most important feature we have is type which is categorical in type. Since it doesnt have any ordinal nature and since the classes are less, we prefer applying one hot encoding. "
   ]
  },
  {
   "cell_type": "code",
   "execution_count": null,
   "metadata": {
    "execution": {
     "iopub.execute_input": "2021-08-14T16:46:43.393432Z",
     "iopub.status.busy": "2021-08-14T16:46:43.393014Z",
     "iopub.status.idle": "2021-08-14T16:46:43.461484Z",
     "shell.execute_reply": "2021-08-14T16:46:43.460565Z",
     "shell.execute_reply.started": "2021-08-14T16:46:43.393390Z"
    },
    "trusted": true
   },
   "outputs": [],
   "source": [
    "# One hot encoding for 'type' column in x_train and x_test\n",
    "\"\"\" \n",
    "for df in [x_train, x_test]:\n",
    "    if 'type' in df.columns:\n",
    "        dummies = pd.get_dummies(df['type'], prefix='type_')\n",
    "        df.drop(['type'], axis=1, inplace=True)\n",
    "        df[dummies.columns] = dummies\n",
    " \"\"\"\n",
    "# Ensure both x_train and x_test have the same columns after encoding\n",
    "#x_train, x_test = x_train.align(x_test, join='left', axis=1, fill_value=0)"
   ]
  },
  {
   "cell_type": "code",
   "execution_count": null,
   "metadata": {},
   "outputs": [],
   "source": [
    "\n",
    "def one_hot_encode_and_align(x_train, x_test, column):\n",
    "    # One-hot encode the specified column in both train and test\n",
    "    for df in [x_train, x_test]:\n",
    "        if column in df.columns:\n",
    "            dummies = pd.get_dummies(df[column], prefix=f\"{column}_\")\n",
    "            df.drop([column], axis=1, inplace=True)\n",
    "            df[dummies.columns] = dummies\n",
    "    # Align columns to ensure both have the same features\n",
    "    x_train, x_test = x_train.align(x_test, join='left', axis=1, fill_value=0)\n",
    "    return x_train, x_test\n",
    "\n",
    "x_train, x_test = one_hot_encode_and_align(x_train, x_test, \"type\")"
   ]
  },
  {
   "cell_type": "markdown",
   "metadata": {},
   "source": [
    "## 4.Standardize\n",
    "> In this module we create the independent and dependent feature, then split them into train and test data where training size is 70%. Later we collect all the numerical features and apply StandardScaler() function which transforms the distribution so that the mean becomes 0 and standard deviation becomes 1 "
   ]
  },
  {
   "cell_type": "code",
   "execution_count": null,
   "metadata": {
    "execution": {
     "iopub.execute_input": "2021-08-14T16:46:43.463380Z",
     "iopub.status.busy": "2021-08-14T16:46:43.462972Z",
     "iopub.status.idle": "2021-08-14T16:46:43.656068Z",
     "shell.execute_reply": "2021-08-14T16:46:43.655158Z",
     "shell.execute_reply.started": "2021-08-14T16:46:43.463348Z"
    },
    "trusted": true
   },
   "outputs": [],
   "source": [
    "# Standardizing the numerical columns in x_train and x_test only\n",
    "\"\"\"\n",
    "col_names = ['amount','oldbalanceOrg','newbalanceOrig','oldbalanceDest','newbalanceDest']\n",
    "features_train = x_train[col_names]\n",
    "features_test = x_test[col_names]\n",
    "\n",
    "scaler = StandardScaler().fit(features_train.values)\n",
    "\n",
    "features_train = scaler.transform(features_train.values)\n",
    "features_test = scaler.transform(features_test.values)\n",
    "\n",
    "x_train[col_names] = features_train\n",
    "x_test[col_names] = features_test\n",
    "\"\"\""
   ]
  },
  {
   "cell_type": "code",
   "execution_count": null,
   "metadata": {},
   "outputs": [],
   "source": [
    "from sklearn.preprocessing import StandardScaler\n",
    "\n",
    "def standardize_columns(x_train, x_test, col_names):\n",
    "    scaler = StandardScaler().fit(x_train[col_names].values)\n",
    "    x_train[col_names] = scaler.transform(x_train[col_names].values)\n",
    "    x_test[col_names] = scaler.transform(x_test[col_names].values)\n",
    "    return x_train, x_test\n",
    "\n",
    "col_names = ['amount','oldbalanceOrg','newbalanceOrig','oldbalanceDest','newbalanceDest']\n",
    "x_train, x_test = standardize_columns(x_train, x_test, col_names)"
   ]
  },
  {
   "cell_type": "markdown",
   "metadata": {},
   "source": [
    "## 5. Tokenization\n",
    "> We had the customer ids and merchant ids stored in object type. It is bad to apply one hot encoding in it as it can lead to more features and curse of dimensionality can incur. Hence we are applying tokenization here as it can create an unique id number which is in 'int' type for each customer id"
   ]
  },
  {
   "cell_type": "code",
   "execution_count": 16,
   "metadata": {},
   "outputs": [],
   "source": [
    "# import tensorflow as tf"
   ]
  },
  {
   "cell_type": "code",
   "execution_count": 17,
   "metadata": {
    "execution": {
     "iopub.execute_input": "2021-08-14T16:46:43.657606Z",
     "iopub.status.busy": "2021-08-14T16:46:43.657310Z",
     "iopub.status.idle": "2021-08-14T16:46:47.789471Z",
     "shell.execute_reply": "2021-08-14T16:46:47.788409Z",
     "shell.execute_reply.started": "2021-08-14T16:46:43.657580Z"
    },
    "trusted": true
   },
   "outputs": [
    {
     "data": {
      "text/plain": [
       "\" \\ntokenizer_org = tf.keras.preprocessing.text.Tokenizer()\\ntokenizer_org.fit_on_texts(x_train['nameOrig'])\\n\\ntokenizer_dest = tf.keras.preprocessing.text.Tokenizer()\\ntokenizer_dest.fit_on_texts(x_train['nameDest'])\\n\\n# Create tokenized customer lists\\ncustomers_train_org = tokenizer_org.texts_to_sequences(x_train['nameOrig'])\\ncustomers_test_org = tokenizer_org.texts_to_sequences(x_test['nameOrig'])\\n\\ncustomers_train_dest = tokenizer_dest.texts_to_sequences(x_train['nameDest'])\\ncustomers_test_dest = tokenizer_dest.texts_to_sequences(x_test['nameDest'])\\n\\n\\n# Pad sequences\\nx_train['customers_org'] = tf.keras.preprocessing.sequence.pad_sequences(customers_train_org, maxlen=1)\\nx_test['customers_org'] = tf.keras.preprocessing.sequence.pad_sequences(customers_test_org, maxlen=1)\\n\\nx_train['customers_dest'] = tf.keras.preprocessing.sequence.pad_sequences(customers_train_dest, maxlen=1)\\nx_test['customers_dest'] = tf.keras.preprocessing.sequence.pad_sequences(customers_test_dest, maxlen=1)\\n\""
      ]
     },
     "execution_count": 17,
     "metadata": {},
     "output_type": "execute_result"
    }
   ],
   "source": [
    "#Tokenzation of customer name to get a unique id\n",
    "\"\"\" \n",
    "tokenizer_org = tf.keras.preprocessing.text.Tokenizer()\n",
    "tokenizer_org.fit_on_texts(x_train['nameOrig'])\n",
    "\n",
    "tokenizer_dest = tf.keras.preprocessing.text.Tokenizer()\n",
    "tokenizer_dest.fit_on_texts(x_train['nameDest'])\n",
    "\n",
    "# Create tokenized customer lists\n",
    "customers_train_org = tokenizer_org.texts_to_sequences(x_train['nameOrig'])\n",
    "customers_test_org = tokenizer_org.texts_to_sequences(x_test['nameOrig'])\n",
    "\n",
    "customers_train_dest = tokenizer_dest.texts_to_sequences(x_train['nameDest'])\n",
    "customers_test_dest = tokenizer_dest.texts_to_sequences(x_test['nameDest'])\n",
    "\n",
    "\n",
    "# Pad sequences\n",
    "x_train['customers_org'] = tf.keras.preprocessing.sequence.pad_sequences(customers_train_org, maxlen=1)\n",
    "x_test['customers_org'] = tf.keras.preprocessing.sequence.pad_sequences(customers_test_org, maxlen=1)\n",
    "\n",
    "x_train['customers_dest'] = tf.keras.preprocessing.sequence.pad_sequences(customers_train_dest, maxlen=1)\n",
    "x_test['customers_dest'] = tf.keras.preprocessing.sequence.pad_sequences(customers_test_dest, maxlen=1)\n",
    "\"\"\""
   ]
  },
  {
   "cell_type": "code",
   "execution_count": null,
   "metadata": {},
   "outputs": [],
   "source": [
    "# Alternative to TensorFlow tokenization: use pandas.factorize to convert IDs to unique integers\n",
    "\"\"\"\n",
    "x_train['customers_org'], org_uniques = pd.factorize(x_train['nameOrig'])\n",
    "x_test['customers_org'] = org_uniques.get_indexer(x_test['nameOrig'])\n",
    "\n",
    "x_train['customers_dest'], dest_uniques = pd.factorize(x_train['nameDest'])\n",
    "x_test['customers_dest'] = dest_uniques.get_indexer(x_test['nameDest'])\n",
    "\n",
    "# Any unknown IDs in test set will be encoded as -1. Can replace -1 with a new integer if needed, e.g.:\n",
    "x_test['customers_org'] = x_test['customers_org'].replace(-1, len(org_uniques))\n",
    "x_test['customers_dest'] = x_test['customers_dest'].replace(-1, len(dest_uniques))\n",
    "\"\"\""
   ]
  },
  {
   "cell_type": "code",
   "execution_count": null,
   "metadata": {},
   "outputs": [],
   "source": [
    "def tokenize_column(x_train, x_test, column):\n",
    "    # Fit factorizer on x_train\n",
    "    x_train[f\"{column}_token\"], uniques = pd.factorize(x_train[column])\n",
    "    # Map test set using train uniques\n",
    "    x_test[f\"{column}_token\"] = uniques.get_indexer(x_test[column])\n",
    "    # Replace -1 (unknowns) with a new integer\n",
    "    x_test[f\"{column}_token\"] = x_test[f\"{column}_token\"].replace(-1, len(uniques))\n",
    "    return x_train, x_test\n",
    "\n",
    "x_train, x_test = tokenize_column(x_train, x_test, \"nameOrig\")\n",
    "x_train, x_test = tokenize_column(x_train, x_test, \"nameDest\")"
   ]
  },
  {
   "cell_type": "markdown",
   "metadata": {},
   "source": [
    "### 6. Dropping unnecessary columns\n",
    "> We dont need the sender and receiver id as we have tokenized them, also we dont required isFlaggedFraud as it is just an outcome of current algorithm. "
   ]
  },
  {
   "cell_type": "code",
   "execution_count": 19,
   "metadata": {
    "execution": {
     "iopub.execute_input": "2021-08-14T16:46:47.790982Z",
     "iopub.status.busy": "2021-08-14T16:46:47.790711Z",
     "iopub.status.idle": "2021-08-14T16:46:47.807516Z",
     "shell.execute_reply": "2021-08-14T16:46:47.806592Z",
     "shell.execute_reply.started": "2021-08-14T16:46:47.790955Z"
    },
    "trusted": true
   },
   "outputs": [],
   "source": [
    "#Dropping unnecessary columns\n",
    "x_train=x_train.drop(['nameOrig','nameDest','isFlaggedFraud'],axis=1)\n",
    "x_train = x_train.reset_index(drop=True)\n",
    "\n",
    "x_test=x_test.drop(['nameOrig','nameDest','isFlaggedFraud'],axis=1)\n",
    "x_test = x_test.reset_index(drop=True)"
   ]
  },
  {
   "cell_type": "code",
   "execution_count": 20,
   "metadata": {},
   "outputs": [
    {
     "data": {
      "text/html": [
       "<div>\n",
       "<style scoped>\n",
       "    .dataframe tbody tr th:only-of-type {\n",
       "        vertical-align: middle;\n",
       "    }\n",
       "\n",
       "    .dataframe tbody tr th {\n",
       "        vertical-align: top;\n",
       "    }\n",
       "\n",
       "    .dataframe thead th {\n",
       "        text-align: right;\n",
       "    }\n",
       "</style>\n",
       "<table border=\"1\" class=\"dataframe\">\n",
       "  <thead>\n",
       "    <tr style=\"text-align: right;\">\n",
       "      <th></th>\n",
       "      <th>step</th>\n",
       "      <th>amount</th>\n",
       "      <th>oldbalanceOrg</th>\n",
       "      <th>newbalanceOrig</th>\n",
       "      <th>oldbalanceDest</th>\n",
       "      <th>newbalanceDest</th>\n",
       "      <th>type__CASH_IN</th>\n",
       "      <th>type__CASH_OUT</th>\n",
       "      <th>type__DEBIT</th>\n",
       "      <th>type__PAYMENT</th>\n",
       "      <th>type__TRANSFER</th>\n",
       "      <th>customers_org</th>\n",
       "      <th>customers_dest</th>\n",
       "    </tr>\n",
       "  </thead>\n",
       "  <tbody>\n",
       "    <tr>\n",
       "      <th>0</th>\n",
       "      <td>130</td>\n",
       "      <td>-0.311801</td>\n",
       "      <td>-0.399832</td>\n",
       "      <td>-0.210925</td>\n",
       "      <td>-0.312392</td>\n",
       "      <td>-0.316741</td>\n",
       "      <td>False</td>\n",
       "      <td>True</td>\n",
       "      <td>False</td>\n",
       "      <td>False</td>\n",
       "      <td>False</td>\n",
       "      <td>3122254</td>\n",
       "      <td>136962</td>\n",
       "    </tr>\n",
       "    <tr>\n",
       "      <th>1</th>\n",
       "      <td>257</td>\n",
       "      <td>-0.387285</td>\n",
       "      <td>-0.389008</td>\n",
       "      <td>-0.210925</td>\n",
       "      <td>-0.312392</td>\n",
       "      <td>-0.362109</td>\n",
       "      <td>False</td>\n",
       "      <td>True</td>\n",
       "      <td>False</td>\n",
       "      <td>False</td>\n",
       "      <td>False</td>\n",
       "      <td>3122254</td>\n",
       "      <td>1424127</td>\n",
       "    </tr>\n",
       "    <tr>\n",
       "      <th>2</th>\n",
       "      <td>203</td>\n",
       "      <td>-0.389055</td>\n",
       "      <td>-0.374466</td>\n",
       "      <td>-0.210925</td>\n",
       "      <td>-0.276164</td>\n",
       "      <td>-0.333651</td>\n",
       "      <td>False</td>\n",
       "      <td>True</td>\n",
       "      <td>False</td>\n",
       "      <td>False</td>\n",
       "      <td>False</td>\n",
       "      <td>3122254</td>\n",
       "      <td>254769</td>\n",
       "    </tr>\n",
       "    <tr>\n",
       "      <th>3</th>\n",
       "      <td>188</td>\n",
       "      <td>-0.304687</td>\n",
       "      <td>0.804689</td>\n",
       "      <td>1.432051</td>\n",
       "      <td>1.458665</td>\n",
       "      <td>0.968303</td>\n",
       "      <td>True</td>\n",
       "      <td>False</td>\n",
       "      <td>False</td>\n",
       "      <td>False</td>\n",
       "      <td>False</td>\n",
       "      <td>3122254</td>\n",
       "      <td>50623</td>\n",
       "    </tr>\n",
       "    <tr>\n",
       "      <th>4</th>\n",
       "      <td>278</td>\n",
       "      <td>-0.313158</td>\n",
       "      <td>-0.400971</td>\n",
       "      <td>-0.210925</td>\n",
       "      <td>-0.186667</td>\n",
       "      <td>-0.215103</td>\n",
       "      <td>False</td>\n",
       "      <td>True</td>\n",
       "      <td>False</td>\n",
       "      <td>False</td>\n",
       "      <td>False</td>\n",
       "      <td>3122254</td>\n",
       "      <td>119658</td>\n",
       "    </tr>\n",
       "  </tbody>\n",
       "</table>\n",
       "</div>"
      ],
      "text/plain": [
       "   step    amount  oldbalanceOrg  newbalanceOrig  oldbalanceDest  \\\n",
       "0   130 -0.311801      -0.399832       -0.210925       -0.312392   \n",
       "1   257 -0.387285      -0.389008       -0.210925       -0.312392   \n",
       "2   203 -0.389055      -0.374466       -0.210925       -0.276164   \n",
       "3   188 -0.304687       0.804689        1.432051        1.458665   \n",
       "4   278 -0.313158      -0.400971       -0.210925       -0.186667   \n",
       "\n",
       "   newbalanceDest  type__CASH_IN  type__CASH_OUT  type__DEBIT  type__PAYMENT  \\\n",
       "0       -0.316741          False            True        False          False   \n",
       "1       -0.362109          False            True        False          False   \n",
       "2       -0.333651          False            True        False          False   \n",
       "3        0.968303           True           False        False          False   \n",
       "4       -0.215103          False            True        False          False   \n",
       "\n",
       "   type__TRANSFER  customers_org  customers_dest  \n",
       "0           False        3122254          136962  \n",
       "1           False        3122254         1424127  \n",
       "2           False        3122254          254769  \n",
       "3           False        3122254           50623  \n",
       "4           False        3122254          119658  "
      ]
     },
     "execution_count": 20,
     "metadata": {},
     "output_type": "execute_result"
    }
   ],
   "source": [
    "x_test.head()"
   ]
  },
  {
   "cell_type": "markdown",
   "metadata": {},
   "source": [
    "# 🤖 Model Building\n",
    "> We have successfully processed the data and it is time for serving the data to the model. It is time consuming to find out which model works best for our data. Hence I have utlized pipeline to run our data through all the classification algorithm and select the best which gives out the maximum accuracy."
   ]
  },
  {
   "cell_type": "code",
   "execution_count": null,
   "metadata": {},
   "outputs": [
    {
     "name": "stdout",
     "output_type": "stream",
     "text": [
      "Logistic Regression Test Accuracy: 0.944668897135252\n",
      "Decision Tree Test Accuracy: 0.9967579194180495\n",
      "Decision Tree Test Accuracy: 0.9967579194180495\n",
      "KNN Test Accuracy: 0.993954511894142\n",
      "KNN Test Accuracy: 0.993954511894142\n"
     ]
    }
   ],
   "source": [
    "#creating the objects\n",
    "logreg_cv = LogisticRegression(solver='liblinear',random_state=123)\n",
    "dt_cv=DecisionTreeClassifier(random_state=123)\n",
    "knn_cv=KNeighborsClassifier()\n",
    "svc_cv=SVC(kernel='linear',random_state=123)\n",
    "nb_cv=GaussianNB()\n",
    "rf_cv=RandomForestClassifier(random_state=123)\n",
    "cv_dict = {0: 'Logistic Regression', 1: 'Decision Tree',2:'KNN',3:'SVC',4:'Naive Bayes',5:'Random Forest'}\n",
    "cv_models=[logreg_cv,dt_cv,knn_cv,svc_cv,nb_cv,rf_cv]\n",
    "\n",
    "\n",
    "for i,model in enumerate(cv_models):\n",
    "    print(\"{} Test Accuracy: {}\".format(cv_dict[i],cross_val_score(model, x_train, y_train, cv=10, scoring ='accuracy').mean()))"
   ]
  },
  {
   "cell_type": "markdown",
   "metadata": {},
   "source": [
    "<div class=\"alert alert-block alert-info\">\n",
    "<b>💭Thoughts:</b> <br>\n",
    "We can see who won the prize-it is Naive Bayes. Other algorithms have also performed in par with NB especially Random Forest and KNN. It sure looks overfitted as the accuracy is near 100% which can be verified using the test data. Before that lets do hyperparameter tuning on NB<br>\n",
    "<br>   \n",
    "</div>"
   ]
  },
  {
   "cell_type": "markdown",
   "metadata": {},
   "source": [
    "## ⛮ Hyperparameter Tuning\n",
    "> Lets fit the Naive bayes model by tuning the model with its parameters. Here we are gonna tune var_smoothing which is a stability calculation to widen (or smooth) the curve and therefore account for more samples that are further away from the distribution mean. In this case, np.logspace returns numbers spaced evenly on a log scale, starts from 0, ends at -9, and generates 100 samples."
   ]
  },
  {
   "cell_type": "code",
   "execution_count": null,
   "metadata": {
    "execution": {
     "iopub.execute_input": "2021-08-14T16:47:25.966861Z",
     "iopub.status.busy": "2021-08-14T16:47:25.966447Z",
     "iopub.status.idle": "2021-08-14T16:47:46.215476Z",
     "shell.execute_reply": "2021-08-14T16:47:46.214789Z",
     "shell.execute_reply.started": "2021-08-14T16:47:25.966833Z"
    },
    "trusted": true
   },
   "outputs": [
    {
     "name": "stdout",
     "output_type": "stream",
     "text": [
      "Fitting 10 folds for each of 100 candidates, totalling 1000 fits\n"
     ]
    },
    {
     "name": "stderr",
     "output_type": "stream",
     "text": [
      "[Parallel(n_jobs=-1)]: Using backend LokyBackend with 4 concurrent workers.\n",
      "[Parallel(n_jobs=-1)]: Done  76 tasks      | elapsed:    1.6s\n",
      "[Parallel(n_jobs=-1)]: Done 376 tasks      | elapsed:    7.5s\n",
      "[Parallel(n_jobs=-1)]: Done 876 tasks      | elapsed:   17.6s\n"
     ]
    },
    {
     "name": "stdout",
     "output_type": "stream",
     "text": [
      "GaussianNB(var_smoothing=8.111308307896856e-09)\n"
     ]
    },
    {
     "name": "stderr",
     "output_type": "stream",
     "text": [
      "[Parallel(n_jobs=-1)]: Done 1000 out of 1000 | elapsed:   20.1s finished\n"
     ]
    }
   ],
   "source": [
    "param_grid_nb = {\n",
    "    'var_smoothing': np.logspace(0,-9, num=100)\n",
    "}\n",
    "\n",
    "nbModel_grid = GridSearchCV(estimator=GaussianNB(), param_grid=param_grid_nb, verbose=1, cv=10, n_jobs=-1)\n",
    "nbModel_grid.fit(x_train, y_train)\n",
    "print(nbModel_grid.best_estimator_)"
   ]
  },
  {
   "cell_type": "markdown",
   "metadata": {},
   "source": [
    "# 🧪 Evaluation of model\n",
    "> Time to explore the truth of high numbers by evaluating against testing data"
   ]
  },
  {
   "cell_type": "code",
   "execution_count": null,
   "metadata": {
    "_kg_hide-input": true,
    "execution": {
     "iopub.execute_input": "2021-08-14T16:47:46.216916Z",
     "iopub.status.busy": "2021-08-14T16:47:46.216505Z",
     "iopub.status.idle": "2021-08-14T16:47:46.225029Z",
     "shell.execute_reply": "2021-08-14T16:47:46.224369Z",
     "shell.execute_reply.started": "2021-08-14T16:47:46.216887Z"
    },
    "trusted": true
   },
   "outputs": [],
   "source": [
    "#Function for Confusion matrix\n",
    "import matplotlib.pyplot as plt\n",
    "def plot_confusion_matrix(cm, classes,\n",
    "                          normalize=False,\n",
    "                          title='Confusion matrix',\n",
    "                          cmap=plt.cm.Blues):\n",
    "    \"\"\"\n",
    "    This function prints and plots the confusion matrix.\n",
    "    Normalization can be applied by setting `normalize=True`.\n",
    "    \"\"\"\n",
    "    \n",
    "    plt.imshow(cm, interpolation='nearest', cmap=cmap)\n",
    "    plt.title(title)\n",
    "    plt.colorbar()\n",
    "    tick_marks = np.arange(len(classes))\n",
    "    plt.xticks(tick_marks, classes, rotation=45)\n",
    "    plt.yticks(tick_marks, classes)\n",
    "\n",
    "    if normalize:\n",
    "        cm = cm.astype('float') / cm.sum(axis=1)[:, np.newaxis]\n",
    "        print(\"Normalized confusion matrix\")\n",
    "    else:\n",
    "        print('Confusion matrix, without normalization')\n",
    "\n",
    "    thresh = cm.max() / 2.\n",
    "    for i in range (cm.shape[0]):\n",
    "        for j in range (cm.shape[1]):\n",
    "            plt.text(j, i, cm[i, j],\n",
    "                 horizontalalignment=\"center\",\n",
    "                 color=\"white\" if cm[i, j] > thresh else \"black\")\n",
    "\n",
    "    plt.tight_layout()\n",
    "    plt.ylabel('True label')\n",
    "    plt.xlabel('Predicted label')"
   ]
  },
  {
   "cell_type": "code",
   "execution_count": null,
   "metadata": {
    "execution": {
     "iopub.execute_input": "2021-08-14T16:47:46.226362Z",
     "iopub.status.busy": "2021-08-14T16:47:46.225979Z",
     "iopub.status.idle": "2021-08-14T16:47:46.516983Z",
     "shell.execute_reply": "2021-08-14T16:47:46.516217Z",
     "shell.execute_reply.started": "2021-08-14T16:47:46.226335Z"
    },
    "trusted": true
   },
   "outputs": [
    {
     "name": "stdout",
     "output_type": "stream",
     "text": [
      "Confusion matrix, without normalization\n"
     ]
    },
    {
     "data": {
      "image/png": "[encoded data removed]",
      "text/plain": [
       "<Figure size 432x288 with 2 Axes>"
      ]
     },
     "metadata": {
      "needs_background": "light"
     },
     "output_type": "display_data"
    }
   ],
   "source": [
    "#Predict with the selected best parameter\n",
    "y_pred=nbModel_grid.predict(x_test)\n",
    "\n",
    "#Plotting confusion matrix\n",
    "cm = metrics.confusion_matrix(y_test, y_pred)\n",
    "plot_confusion_matrix(cm, classes=['Not Fraud','Fraud'])"
   ]
  },
  {
   "cell_type": "markdown",
   "metadata": {},
   "source": [
    "<div class=\"alert alert-block alert-info\">\n",
    "<b>💭Thoughts:</b> <br>\n",
    "The model has identified false positives but never let even a single false negative which is more important than FP. Since we cant miss out a fraud transactions, but we can manage false positive results by investigating them  <br>\n",
    "<br>   \n",
    "</div>"
   ]
  },
  {
   "cell_type": "code",
   "execution_count": null,
   "metadata": {
    "execution": {
     "iopub.execute_input": "2021-08-14T16:47:46.518412Z",
     "iopub.status.busy": "2021-08-14T16:47:46.518006Z",
     "iopub.status.idle": "2021-08-14T16:47:46.581856Z",
     "shell.execute_reply": "2021-08-14T16:47:46.580860Z",
     "shell.execute_reply.started": "2021-08-14T16:47:46.518383Z"
    },
    "trusted": true
   },
   "outputs": [
    {
     "name": "stdout",
     "output_type": "stream",
     "text": [
      "              precision    recall  f1-score   support\n",
      "\n",
      "   Not Fraud       1.00      0.45      0.62     14902\n",
      "       Fraud       0.65      1.00      0.79     15038\n",
      "\n",
      "    accuracy                           0.73     29940\n",
      "   macro avg       0.82      0.72      0.70     29940\n",
      "weighted avg       0.82      0.73      0.70     29940\n",
      "\n"
     ]
    }
   ],
   "source": [
    "#Classification metrics\n",
    "print(classification_report(y_test, y_pred, target_names=['Not Fraud','Fraud']))"
   ]
  },
  {
   "cell_type": "markdown",
   "metadata": {},
   "source": [
    "### Show a sample input and the model's prediction for Naive Bayes"
   ]
  },
  {
   "cell_type": "code",
   "execution_count": null,
   "metadata": {},
   "outputs": [],
   "source": [
    "import pandas as pd\n",
    "import numpy as np\n",
    "\n",
    "# Select a random sample from the test set\n",
    "sample_idx = 0  # Change this index to see other samples\n",
    "sample_input = x_test.iloc[sample_idx]\n",
    "sample_true_label = y_test.iloc[sample_idx]\n",
    "\n",
    "# Reshape input for prediction\n",
    "sample_input_reshaped = sample_input.values.reshape(1, -1)\n",
    "\n",
    "# Model prediction\n",
    "sample_pred_proba = nbModel_grid.predict_proba(sample_input_reshaped)[0, 1]\n",
    "sample_pred_class = nbModel_grid.predict(sample_input_reshaped)[0]\n",
    "\n",
    "print(\"Sample input features:\\n\", sample_input)\n",
    "print(f\"True label: {sample_true_label}\")\n",
    "print(f\"Predicted probability of fraud: {sample_pred_proba:.4f}\")\n",
    "print(f\"Predicted class: {sample_pred_class}\")"
   ]
  },
  {
   "cell_type": "markdown",
   "metadata": {},
   "source": [
    "<div class=\"alert alert-block alert-info\">\n",
    "<b>💭Thoughts:</b> <br>\n",
    "When we found that our false negatives are more important than false positives, we have to look at the recall number and we have 100% recall in finding the fraud transactions and 100% precision in finding the non fraud tranactions and on an average our model performs more than 70% accurate which is pretty good and there are possible chance to improve the performance of this model.  <br>\n",
    "<br>   \n",
    "</div>"
   ]
  }
 ],
 "metadata": {
  "kernelspec": {
   "display_name": "mlops",
   "language": "python",
   "name": "python3"
  },
  "language_info": {
   "codemirror_mode": {
    "name": "ipython",
    "version": 3
   },
   "file_extension": ".py",
   "mimetype": "text/x-python",
   "name": "python",
   "nbconvert_exporter": "python",
   "pygments_lexer": "ipython3",
   "version": "3.13.5"
  }
 },
 "nbformat": 4,
 "nbformat_minor": 4
}
