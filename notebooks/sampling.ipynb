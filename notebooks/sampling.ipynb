{
 "cells": [
  {
   "cell_type": "markdown",
   "id": "6e7fefd1",
   "metadata": {},
   "source": [
    "# Samping raw data to simulate data used for dev, stag and prod"
   ]
  },
  {
   "cell_type": "markdown",
   "id": "2ce7b973",
   "metadata": {},
   "source": [
    "- Dev (tiny) → 1–5% of the data (fast iteration, debugging code). -> 10000 rows\n",
    "\n",
    "- Staging (medium) → ~10–20% of the data (system integration tests, pipelines). -> 20172 rows\n",
    "\n",
    "- Prod (full) → 100% of the data (training final models, evaluation). -> 284807 rows"
   ]
  },
  {
   "cell_type": "code",
   "execution_count": 13,
   "id": "b9e8a3f6",
   "metadata": {},
   "outputs": [],
   "source": [
    "import numpy as np\n",
    "import pandas as pd\n",
    "from pathlib import Path"
   ]
  },
  {
   "cell_type": "code",
   "execution_count": 14,
   "id": "fe6d9754",
   "metadata": {},
   "outputs": [
    {
     "data": {
      "text/plain": [
       "284807"
      ]
     },
     "execution_count": 14,
     "metadata": {},
     "output_type": "execute_result"
    }
   ],
   "source": [
    "# Load dataset to dataframe\n",
    "RAW_PATH = Path(\"../data/raw\")\n",
    "CREDITCARD_PATH = RAW_PATH / \"creditcard.csv\"\n",
    "\n",
    "df = pd.read_csv(CREDITCARD_PATH)\n",
    "df.head()\n",
    "len(df)"
   ]
  },
  {
   "cell_type": "markdown",
   "id": "6ebf16ba",
   "metadata": {},
   "source": [
    "To avoid data leakage & keep fraud class balance:\n",
    "Use stratified sampling on the target column (Class) so the fraud ratio stays the same."
   ]
  },
  {
   "cell_type": "code",
   "execution_count": 15,
   "id": "dc27bb44",
   "metadata": {},
   "outputs": [],
   "source": [
    "from sklearn.model_selection import train_test_split\n",
    "\n",
    "# Dev (small sample)\n",
    "dev_df = df.sample(n=10000, random_state=42)\n",
    "dev_df.to_csv(RAW_PATH / \"dev\" / \"creditcard-dev.csv\", index=False)\n",
    "\n",
    "# Staging (medium, balanced)\n",
    "# Randomly samples 40 times as many non-fraud cases as there are fraud cases, ensuring a 1:10 fraud:non-fraud ratio.\n",
    "fraud = df[df[\"Class\"] == 1]\n",
    "non_fraud = df[df[\"Class\"] == 0].sample(n=len(fraud)*40, random_state=42)\n",
    "staging_df = pd.concat([fraud, non_fraud])\n",
    "staging_df.to_csv(RAW_PATH / \"staging\" / \"creditcard-staging.csv\", index=False)\n",
    "\n",
    "# Prod (full dataset)\n",
    "df.to_csv(RAW_PATH / \"prod\" / \"creditcard-prod.csv\", index=False)"
   ]
  },
  {
   "cell_type": "code",
   "execution_count": 16,
   "id": "3faf6de4",
   "metadata": {},
   "outputs": [
    {
     "data": {
      "text/plain": [
       "10000"
      ]
     },
     "execution_count": 16,
     "metadata": {},
     "output_type": "execute_result"
    }
   ],
   "source": [
    "len(dev_df)"
   ]
  },
  {
   "cell_type": "code",
   "execution_count": 17,
   "id": "4e79114c",
   "metadata": {},
   "outputs": [
    {
     "data": {
      "text/plain": [
       "20172"
      ]
     },
     "execution_count": 17,
     "metadata": {},
     "output_type": "execute_result"
    }
   ],
   "source": [
    "len(staging_df)"
   ]
  },
  {
   "cell_type": "code",
   "execution_count": 18,
   "id": "6ef74cb3",
   "metadata": {},
   "outputs": [
    {
     "data": {
      "text/plain": [
       "284807"
      ]
     },
     "execution_count": 18,
     "metadata": {},
     "output_type": "execute_result"
    }
   ],
   "source": [
    "len(df)"
   ]
  }
 ],
 "metadata": {
  "kernelspec": {
   "display_name": "mlops",
   "language": "python",
   "name": "python3"
  },
  "language_info": {
   "codemirror_mode": {
    "name": "ipython",
    "version": 3
   },
   "file_extension": ".py",
   "mimetype": "text/x-python",
   "name": "python",
   "nbconvert_exporter": "python",
   "pygments_lexer": "ipython3",
   "version": "3.13.5"
  }
 },
 "nbformat": 4,
 "nbformat_minor": 5
}
