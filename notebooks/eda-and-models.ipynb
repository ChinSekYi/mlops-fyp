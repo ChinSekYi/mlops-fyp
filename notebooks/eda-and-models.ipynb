{
 "cells": [
  {
   "cell_type": "code",
   "execution_count": 9,
   "id": "0bc5e737",
   "metadata": {},
   "outputs": [
    {
     "name": "stdout",
     "output_type": "stream",
     "text": [
      "Cleared MODEL_ALIAS\n",
      "Cleared REGISTERED_MODEL_NAME\n",
      "Cleared MLFLOW_TRACKING_URI\n",
      "Environment cleared. Ready for fresh .env loading.\n"
     ]
    }
   ],
   "source": [
    "# Clear any existing environment variables for a clean test\n",
    "import os\n",
    "\n",
    "# Clear MLflow-related environment variables\n",
    "env_vars_to_clear = ['MODEL_ALIAS', 'MODEL_NAME', 'REGISTERED_MODEL_NAME', 'MLFLOW_TRACKING_URI']\n",
    "for var in env_vars_to_clear:\n",
    "    if var in os.environ:\n",
    "        del os.environ[var]\n",
    "        print(f\"Cleared {var}\")\n",
    "\n",
    "print(\"Environment cleared. Ready for fresh .env loading.\")"
   ]
  },
  {
   "cell_type": "code",
   "execution_count": 10,
   "id": "91dfe33e",
   "metadata": {},
   "outputs": [
    {
     "name": "stdout",
     "output_type": "stream",
     "text": [
      "[ENV] Loaded environment from ../.env\n",
      "candidate\n",
      "Attempting to load model fraud-detection-model with alias candidate\n"
     ]
    },
    {
     "data": {
      "application/vnd.jupyter.widget-view+json": {
       "model_id": "ee7acdf248864dd2aad50a053c6f8bcf",
       "version_major": 2,
       "version_minor": 0
      },
      "text/plain": [
       "Downloading artifacts:   0%|          | 0/7 [00:00<?, ?it/s]"
      ]
     },
     "metadata": {},
     "output_type": "display_data"
    },
    {
     "name": "stdout",
     "output_type": "stream",
     "text": [
      "✅ Successfully loaded MLflow model\n"
     ]
    }
   ],
   "source": [
    "import os\n",
    "import mlflow\n",
    "\n",
    "from utils import load_environment\n",
    "\n",
    "# Fix: .env file is in parent directory, not in notebooks folder\n",
    "env_file = os.getenv(\"ENV_FILE\", \"../.env\")  # Changed from \".env\" to \"../.env\"\n",
    "load_environment(env_file)\n",
    "\n",
    "MODEL_NAME = os.getenv(\"REGISTERED_MODEL_NAME\")\n",
    "MODEL_ALIAS = os.getenv(\"MODEL_ALIAS\")\n",
    "MLFLOW_TRACKING_URI = os.getenv(\"MLFLOW_TRACKING_URI\")\n",
    "mlflow.set_tracking_uri(MLFLOW_TRACKING_URI)\n",
    "\n",
    "print(MODEL_ALIAS)\n",
    "\n",
    "print(f\"Attempting to load model {MODEL_NAME} with alias {MODEL_ALIAS}\")\n",
    "# Try to load model using alias first\n",
    "model_uri = f\"models:/{MODEL_NAME}@{MODEL_ALIAS}\"\n",
    "model = mlflow.sklearn.load_model(model_uri)\n",
    "print(\"✅ Successfully loaded MLflow model\")"
   ]
  },
  {
   "cell_type": "code",
   "execution_count": 11,
   "id": "3ffae2d5",
   "metadata": {},
   "outputs": [
    {
     "name": "stdout",
     "output_type": "stream",
     "text": [
      "Current working directory: /Users/carlychinsekyi/Downloads/GitHub/mlops-fyp/notebooks\n",
      "ENV_FILE environment variable: Not set\n",
      "Looking for env file: ../.env\n",
      "✅ ../.env exists\n",
      "Line 41: MODEL_ALIAS=candidate\n",
      "MODEL_ALIAS before loading: candidate\n",
      "[ENV] Loaded environment from ../.env\n",
      "MODEL_ALIAS after loading: candidate\n"
     ]
    }
   ],
   "source": [
    "# Debug: Check what's happening with environment loading\n",
    "import os\n",
    "print(f\"Current working directory: {os.getcwd()}\")\n",
    "print(f\"ENV_FILE environment variable: {os.getenv('ENV_FILE', 'Not set')}\")\n",
    "\n",
    "# Check if .env file exists and what it contains\n",
    "env_file = os.getenv(\"ENV_FILE\", \"../.env\")  # Changed to point to parent directory\n",
    "print(f\"Looking for env file: {env_file}\")\n",
    "\n",
    "if os.path.exists(env_file):\n",
    "    print(f\"✅ {env_file} exists\")\n",
    "    with open(env_file, 'r') as f:\n",
    "        for line_num, line in enumerate(f, 1):\n",
    "            if 'MODEL_ALIAS' in line:\n",
    "                print(f\"Line {line_num}: {line.strip()}\")\n",
    "else:\n",
    "    print(f\"❌ {env_file} does not exist\")\n",
    "\n",
    "# Check environment variable before and after loading\n",
    "print(f\"MODEL_ALIAS before loading: {os.getenv('MODEL_ALIAS', 'Not set')}\")\n",
    "\n",
    "from utils import load_environment\n",
    "load_environment(env_file)\n",
    "\n",
    "print(f\"MODEL_ALIAS after loading: {os.getenv('MODEL_ALIAS', 'Not set')}\")"
   ]
  }
 ],
 "metadata": {
  "kernelspec": {
   "display_name": "mlops",
   "language": "python",
   "name": "python3"
  },
  "language_info": {
   "codemirror_mode": {
    "name": "ipython",
    "version": 3
   },
   "file_extension": ".py",
   "mimetype": "text/x-python",
   "name": "python",
   "nbconvert_exporter": "python",
   "pygments_lexer": "ipython3",
   "version": "3.13.5"
  }
 },
 "nbformat": 4,
 "nbformat_minor": 5
}
