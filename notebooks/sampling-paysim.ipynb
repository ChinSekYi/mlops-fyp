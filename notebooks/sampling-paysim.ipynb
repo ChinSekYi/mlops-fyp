{
 "cells": [
  {
   "cell_type": "markdown",
   "id": "6e7fefd1",
   "metadata": {},
   "source": [
    "# Samping raw data to simulate data used for dev, stag and prod"
   ]
  },
  {
   "cell_type": "markdown",
   "id": "2ce7b973",
   "metadata": {},
   "source": [
    "split the chronological timeline into Dev (oldest) → Staging (recent past) → Prod (most recent). Each environment can then be used differently.\n",
    "\n",
    "split the 6.36M rows into:\n",
    "- Dev → ~70% oldest steps\n",
    "- Staging → ~15% middle steps\n",
    "- Prod → ~15% newest steps"
   ]
  },
  {
   "cell_type": "code",
   "execution_count": null,
   "id": "b9e8a3f6",
   "metadata": {},
   "outputs": [],
   "source": [
    "import pandas as pd\n",
    "from pathlib import Path"
   ]
  },
  {
   "cell_type": "code",
   "execution_count": null,
   "id": "fe6d9754",
   "metadata": {},
   "outputs": [
    {
     "data": {
      "text/plain": [
       "6362620"
      ]
     },
     "execution_count": 4,
     "metadata": {},
     "output_type": "execute_result"
    }
   ],
   "source": [
    "RAW_PATH = Path(\"../data/raw\")\n",
    "CREDITCARD_PATH = RAW_PATH / \"paysim_data.csv\"\n",
    "\n",
    "df = pd.read_csv(CREDITCARD_PATH)\n",
    "df.head()\n",
    "len(df)"
   ]
  },
  {
   "cell_type": "markdown",
   "id": "6ebf16ba",
   "metadata": {},
   "source": [
    "To avoid data leakage & keep fraud class balance:\n",
    "Use stratified sampling on the target column (Class) so the fraud ratio stays the same."
   ]
  },
  {
   "cell_type": "code",
   "execution_count": null,
   "id": "dc27bb44",
   "metadata": {},
   "outputs": [
    {
     "name": "stdout",
     "output_type": "stream",
     "text": [
      "Step range: 1 to 743\n",
      "Dev: 4463587 rows, Staging: 980416 rows, Prod: 918617 rows\n",
      "Fraud rates: 0.0008161597387930379 0.0005752660095306482 0.004360903401526425\n"
     ]
    }
   ],
   "source": [
    "# Check unique step values (time simulation)\n",
    "print(\"Step range:\", df[\"step\"].min(), \"to\", df[\"step\"].max())\n",
    "\n",
    "# Split by quantiles on step\n",
    "q1 = df[\"step\"].quantile(0.70)   # 70% cutoff\n",
    "q2 = df[\"step\"].quantile(0.85)   # 85% cutoff\n",
    "\n",
    "dev_df = df[df[\"step\"] <= q1].copy()\n",
    "staging_df = df[(df[\"step\"] > q1) & (df[\"step\"] <= q2)].copy()\n",
    "prod_df = df[df[\"step\"] > q2].copy()\n",
    "\n",
    "dev_df.to_csv(RAW_PATH / \"paysim-dev.csv\", index=False)\n",
    "staging_df.to_csv(RAW_PATH / \"paysim-staging.csv\", index=False)\n",
    "prod_df.to_csv(RAW_PATH / \"paysim-prod.csv\", index=False)\n",
    "\n",
    "print(f\"Dev: {len(dev_df)} rows, Staging: {len(staging_df)} rows, Prod: {len(prod_df)} rows\")\n",
    "print(\"Fraud rates:\", dev_df['isFraud'].mean(), staging_df['isFraud'].mean(), prod_df['isFraud'].mean())"
   ]
  },
  {
   "cell_type": "code",
   "execution_count": null,
   "id": "d031d68f",
   "metadata": {},
   "outputs": [
    {
     "ename": "SyntaxError",
     "evalue": "invalid syntax (962431800.py, line 3)",
     "output_type": "error",
     "traceback": [
      "\u001b[0;36m  Cell \u001b[0;32mIn[9], line 3\u001b[0;36m\u001b[0m\n\u001b[0;31m    dvc add data/raw/creditcard-prod.csv\u001b[0m\n\u001b[0m        ^\u001b[0m\n\u001b[0;31mSyntaxError\u001b[0m\u001b[0;31m:\u001b[0m invalid syntax\n"
     ]
    }
   ],
   "source": [
    "# then push the data to s3 via dvc\n",
    "eg\n",
    "dvc add data/raw/paysim-prod.csv\n",
    "dvc push"
   ]
  }
 ],
 "metadata": {
  "kernelspec": {
   "display_name": "mlops",
   "language": "python",
   "name": "python3"
  },
  "language_info": {
   "codemirror_mode": {
    "name": "ipython",
    "version": 3
   },
   "file_extension": ".py",
   "mimetype": "text/x-python",
   "name": "python",
   "nbconvert_exporter": "python",
   "pygments_lexer": "ipython3",
   "version": "3.13.5"
  }
 },
 "nbformat": 4,
 "nbformat_minor": 5
}
