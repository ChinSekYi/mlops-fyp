{
 "cells": [
  {
   "cell_type": "markdown",
   "id": "6e7fefd1",
   "metadata": {},
   "source": [
    "# Samping raw data to simulate data used for dev, stag and prod"
   ]
  },
  {
   "cell_type": "markdown",
   "id": "2ce7b973",
   "metadata": {},
   "source": [
    "split the chronological timeline into Dev (oldest) → Staging (recent past) → Prod (most recent). Each environment can then be used differently.\n",
    "\n",
    "split the 6.36M rows into:\n",
    "- Dev → ~70% oldest steps\n",
    "- Staging → ~15% middle steps\n",
    "- Prod → ~15% newest steps"
   ]
  },
  {
   "cell_type": "code",
   "execution_count": 12,
   "id": "b9e8a3f6",
   "metadata": {},
   "outputs": [],
   "source": [
    "import pandas as pd\n",
    "from pathlib import Path"
   ]
  },
  {
   "cell_type": "code",
   "execution_count": 13,
   "id": "fe6d9754",
   "metadata": {},
   "outputs": [
    {
     "data": {
      "text/plain": [
       "30000"
      ]
     },
     "execution_count": 13,
     "metadata": {},
     "output_type": "execute_result"
    }
   ],
   "source": [
    "RAW_PATH = Path(\"../data/raw\")\n",
    "CREDITCARD_PATH = RAW_PATH / \"paysim_data.csv\"\n",
    "\n",
    "df = pd.read_csv(CREDITCARD_PATH)\n",
    "df = df.sample(n=30000, random_state=42)  # Take random 30k rows for speed\n",
    "df.head()\n",
    "len(df)"
   ]
  },
  {
   "cell_type": "code",
   "execution_count": 14,
   "id": "592d7d40",
   "metadata": {},
   "outputs": [
    {
     "name": "stdout",
     "output_type": "stream",
     "text": [
      "Overall fraud rate: 0.0016\n",
      "Dev: 2000 rows (fast development)\n",
      "Staging: 5000 rows (validation)\n",
      "Prod: 23000 rows (production)\n",
      "Fraud rates: 0.0015, 0.0016, 0.0016\n"
     ]
    }
   ],
   "source": [
    "# Best of both worlds: small dev, balanced classes, time-aware\n",
    "from sklearn.model_selection import train_test_split\n",
    "\n",
    "# Overall fraud rate for reference\n",
    "overall_fraud_rate = df['isFraud'].mean()\n",
    "print(f\"Overall fraud rate: {overall_fraud_rate:.4f}\")\n",
    "\n",
    "# Dev: Small stratified sample (fast development)\n",
    "dev_df, remaining_df = train_test_split(\n",
    "    df, \n",
    "    train_size=2000,  # Small for fast iteration\n",
    "    stratify=df['isFraud'], \n",
    "    random_state=42\n",
    ")\n",
    "\n",
    "# Split remaining into staging and prod\n",
    "staging_df, prod_df = train_test_split(\n",
    "    remaining_df, \n",
    "    train_size=5000,  # Medium for validation\n",
    "    stratify=remaining_df['isFraud'], \n",
    "    random_state=43\n",
    ")\n",
    "\n",
    "# Save files\n",
    "dev_df.to_csv(RAW_PATH / \"paysim-dev.csv\", index=False)\n",
    "staging_df.to_csv(RAW_PATH / \"paysim-staging.csv\", index=False)\n",
    "prod_df.to_csv(RAW_PATH / \"paysim-prod.csv\", index=False)\n",
    "\n",
    "print(f\"Dev: {len(dev_df)} rows (fast development)\")\n",
    "print(f\"Staging: {len(staging_df)} rows (validation)\")  \n",
    "print(f\"Prod: {len(prod_df)} rows (production)\")\n",
    "print(f\"Fraud rates: {dev_df['isFraud'].mean():.4f}, {staging_df['isFraud'].mean():.4f}, {prod_df['isFraud'].mean():.4f}\")"
   ]
  },
  {
   "cell_type": "markdown",
   "id": "6ebf16ba",
   "metadata": {},
   "source": [
    "To avoid data leakage & keep fraud class balance:\n",
    "Use stratified sampling on the target column (Class) so the fraud ratio stays the same."
   ]
  },
  {
   "cell_type": "markdown",
   "id": "dc27bb44",
   "metadata": {},
   "source": [
    "# Check unique step values (time simulation)\n",
    "print(\"Step range:\", df[\"step\"].min(), \"to\", df[\"step\"].max())\n",
    "\n",
    "# Split by quantiles on step\n",
    "q1 = df[\"step\"].quantile(0.70)   # 70% cutoff\n",
    "q2 = df[\"step\"].quantile(0.85)   # 85% cutoff\n",
    "\n",
    "dev_df = df[df[\"step\"] <= q1].copy()\n",
    "staging_df = df[(df[\"step\"] > q1) & (df[\"step\"] <= q2)].copy()\n",
    "prod_df = df[df[\"step\"] > q2].copy()\n",
    "\n",
    "dev_df.to_csv(RAW_PATH / \"paysim-dev.csv\", index=False)\n",
    "staging_df.to_csv(RAW_PATH / \"paysim-staging.csv\", index=False)\n",
    "prod_df.to_csv(RAW_PATH / \"paysim-prod.csv\", index=False)\n",
    "\n",
    "print(f\"Dev: {len(dev_df)} rows, Staging: {len(staging_df)} rows, Prod: {len(prod_df)} rows\")\n",
    "print(\"Fraud rates:\", dev_df['isFraud'].mean(), staging_df['isFraud'].mean(), prod_df['isFraud'].mean())"
   ]
  },
  {
   "cell_type": "code",
   "execution_count": 15,
   "id": "1638de29",
   "metadata": {},
   "outputs": [
    {
     "name": "stdout",
     "output_type": "stream",
     "text": [
      "Fraud rates across environments:\n",
      "Dev: 0.0015\n",
      "Staging: 0.0016\n",
      "Prod: 0.0016\n"
     ]
    }
   ],
   "source": [
    "print(\"Fraud rates across environments:\")\n",
    "print(f\"Dev: {dev_df['isFraud'].mean():.4f}\")\n",
    "print(f\"Staging: {staging_df['isFraud'].mean():.4f}\")  \n",
    "print(f\"Prod: {prod_df['isFraud'].mean():.4f}\")"
   ]
  },
  {
   "cell_type": "code",
   "execution_count": 16,
   "id": "d031d68f",
   "metadata": {},
   "outputs": [
    {
     "ename": "SyntaxError",
     "evalue": "invalid syntax (4031129170.py, line 3)",
     "output_type": "error",
     "traceback": [
      "\u001b[0;36m  Cell \u001b[0;32mIn[16], line 3\u001b[0;36m\u001b[0m\n\u001b[0;31m    dvc add data/raw/paysim-prod.csv\u001b[0m\n\u001b[0m        ^\u001b[0m\n\u001b[0;31mSyntaxError\u001b[0m\u001b[0;31m:\u001b[0m invalid syntax\n"
     ]
    }
   ],
   "source": [
    "# then push the data to s3 via dvc\n",
    "eg\n",
    "dvc add data/raw/paysim-prod.csv\n",
    "dvc push"
   ]
  }
 ],
 "metadata": {
  "kernelspec": {
   "display_name": "mlops",
   "language": "python",
   "name": "python3"
  },
  "language_info": {
   "codemirror_mode": {
    "name": "ipython",
    "version": 3
   },
   "file_extension": ".py",
   "mimetype": "text/x-python",
   "name": "python",
   "nbconvert_exporter": "python",
   "pygments_lexer": "ipython3",
   "version": "3.13.5"
  }
 },
 "nbformat": 4,
 "nbformat_minor": 5
}
