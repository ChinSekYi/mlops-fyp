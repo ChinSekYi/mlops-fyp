{
 "cells": [
  {
   "cell_type": "markdown",
   "id": "f5890634",
   "metadata": {},
   "source": [
    "## Test MLflow Client"
   ]
  },
  {
   "cell_type": "code",
   "execution_count": null,
   "id": "a1d318bd",
   "metadata": {},
   "outputs": [],
   "source": [
    "import os\n",
    "import mlflow\n",
    "from utils import load_environment"
   ]
  },
  {
   "cell_type": "code",
   "execution_count": null,
   "id": "0bc5e737",
   "metadata": {},
   "outputs": [],
   "source": [
    "# Clear MLflow-related environment variables\n",
    "env_vars_to_clear = ['MODEL_ALIAS', 'MODEL_NAME', 'REGISTERED_MODEL_NAME', 'MLFLOW_TRACKING_URI']\n",
    "for var in env_vars_to_clear:\n",
    "    if var in os.environ:\n",
    "        del os.environ[var]\n",
    "        print(f\"Cleared {var}\")\n",
    "\n",
    "print(\"Environment cleared. Ready for fresh .env loading.\")"
   ]
  },
  {
   "cell_type": "code",
   "execution_count": null,
   "id": "91dfe33e",
   "metadata": {},
   "outputs": [],
   "source": [
    "env_file = os.getenv(\"ENV_FILE\", \"../.env\")  # Changed from \".env\" to \"../.env\"\n",
    "load_environment(env_file)\n",
    "\n",
    "MODEL_NAME = os.getenv(\"REGISTERED_MODEL_NAME\")\n",
    "MODEL_ALIAS = os.getenv(\"MODEL_ALIAS\")\n",
    "MLFLOW_TRACKING_URI = os.getenv(\"MLFLOW_TRACKING_URI\")\n",
    "mlflow.set_tracking_uri(MLFLOW_TRACKING_URI)\n",
    "\n",
    "print(MODEL_ALIAS)\n",
    "\n",
    "print(f\"Attempting to load model {MODEL_NAME} with alias {MODEL_ALIAS}\")\n",
    "# Try to load model using alias first\n",
    "model_uri = f\"models:/{MODEL_NAME}@{MODEL_ALIAS}\"\n",
    "model = mlflow.sklearn.load_model(model_uri)\n",
    "print(\"✅ Successfully loaded MLflow model\")"
   ]
  }
 ],
 "metadata": {
  "kernelspec": {
   "display_name": "mlops",
   "language": "python",
   "name": "python3"
  },
  "language_info": {
   "codemirror_mode": {
    "name": "ipython",
    "version": 3
   },
   "file_extension": ".py",
   "mimetype": "text/x-python",
   "name": "python",
   "nbconvert_exporter": "python",
   "pygments_lexer": "ipython3",
   "version": "3.13.5"
  }
 },
 "nbformat": 4,
 "nbformat_minor": 5
}
